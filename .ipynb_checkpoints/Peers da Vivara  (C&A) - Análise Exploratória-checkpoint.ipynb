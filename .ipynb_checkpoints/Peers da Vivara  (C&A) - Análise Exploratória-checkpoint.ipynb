{
 "cells": [
  {
   "cell_type": "markdown",
   "id": "78fab40c",
   "metadata": {},
   "source": [
    "# Análise Exploratória - C&A"
   ]
  },
  {
   "cell_type": "markdown",
   "id": "8cdce431",
   "metadata": {},
   "source": [
    "<center><img width=\"60%\" src=\"Arquivos/ca.png\"></center>\n"
   ]
  },
  {
   "cell_type": "markdown",
   "id": "0bb63699",
   "metadata": {},
   "source": [
    "## Análise dos Dados\n",
    "\n",
    "Esta etapa tem por objetivo permitir um entendimento de como os dados estão estruturados.\n",
    "\n",
    "**Dicionário das variáveis**\n",
    "\n",
    "* `Data de Abertura` - Data de abertura da loja\n",
    "* `SHOPPING/STREET` - Se a loja se encontra no shooping ou na rua\n",
    "* `Salão de Vendas - m²` - Área em m2 do tamanho da loja\n",
    "* `Cidade` - Cidade em que a loja se encontra\n",
    "* `Local` - Nome do shopping ou bairro em que a loja se encontra\n",
    "* `Estado` - Estado em que a loja se encontra\n",
    "* `Região` - Região em que a loja se encontra\n",
    "\n"
   ]
  },
  {
   "cell_type": "markdown",
   "id": "aa5bb9c8",
   "metadata": {},
   "source": [
    "### Importando os dados do dataset"
   ]
  },
  {
   "cell_type": "code",
   "execution_count": 2,
   "id": "d719aacb",
   "metadata": {},
   "outputs": [],
   "source": [
    "# importar as bibliotecas necessárias\n",
    "import pandas as pd\n",
    "import matplotlib.pyplot as plt\n",
    "import numpy as np\n",
    "import seaborn as sns\n",
    "import plotly.express as px\n",
    "import math\n",
    "from scipy import stats\n",
    "\n",
    "%matplotlib inline\n",
    "# tamanho dos gráficos\n",
    "plt.rcParams[\"figure.figsize\"] = [10,5]\n",
    "# tamanho dos dados\n",
    "plt.rcParams[\"font.size\"] = 12\n",
    "# tamanho das colunas a exibir os dados\n",
    "pd.set_option('display.max_rows', 67)\n",
    "\n",
    "# configurar a fonte\n",
    "plt.rcParams['font.family'] = 'Arial'\n",
    "\n",
    "# configurar as cores que usarei no plot\n",
    "AZUL = \"#003F5c\" \n",
    "CINZA = \"#9E9E9E\"\n",
    "CINZA_TEXTO = \"#515151\""
   ]
  },
  {
   "cell_type": "code",
   "execution_count": 3,
   "id": "e41ddab9",
   "metadata": {},
   "outputs": [],
   "source": [
    "# importar o dataframe em xlsx\n",
    "df = pd.read_excel(\"Arquivos/lojas_cea.xlsx\")"
   ]
  },
  {
   "cell_type": "markdown",
   "id": "5a54083b",
   "metadata": {},
   "source": [
    "## Análise Exploratória dos Dados\n",
    "\n",
    "Na análise exploratória de dados será efetuada uma explanação inicial das variáveis contidas na dataset, e entenderemos dados referentes a informações de cunho geral."
   ]
  },
  {
   "cell_type": "code",
   "execution_count": 4,
   "id": "00421b21",
   "metadata": {},
   "outputs": [
    {
     "data": {
      "text/html": [
       "<div>\n",
       "<style scoped>\n",
       "    .dataframe tbody tr th:only-of-type {\n",
       "        vertical-align: middle;\n",
       "    }\n",
       "\n",
       "    .dataframe tbody tr th {\n",
       "        vertical-align: top;\n",
       "    }\n",
       "\n",
       "    .dataframe thead th {\n",
       "        text-align: right;\n",
       "    }\n",
       "</style>\n",
       "<table border=\"1\" class=\"dataframe\">\n",
       "  <thead>\n",
       "    <tr style=\"text-align: right;\">\n",
       "      <th></th>\n",
       "      <th>Data de abertura</th>\n",
       "      <th>SHOPPING/STREET</th>\n",
       "      <th>Salão de Vendas - m²</th>\n",
       "      <th>Cidade</th>\n",
       "      <th>Local</th>\n",
       "      <th>Estado</th>\n",
       "      <th>Região</th>\n",
       "    </tr>\n",
       "  </thead>\n",
       "  <tbody>\n",
       "    <tr>\n",
       "      <th>0</th>\n",
       "      <td>1976-08-31</td>\n",
       "      <td>SHOPPING MALL</td>\n",
       "      <td>2705.09</td>\n",
       "      <td>SÃO PAULO</td>\n",
       "      <td>SHOPPING IBIRAPUERA</td>\n",
       "      <td>SP</td>\n",
       "      <td>Sudeste</td>\n",
       "    </tr>\n",
       "    <tr>\n",
       "      <th>1</th>\n",
       "      <td>1977-09-15</td>\n",
       "      <td>STREET</td>\n",
       "      <td>2256.38</td>\n",
       "      <td>CAMPINAS</td>\n",
       "      <td>CAMPINAS - CENTRO</td>\n",
       "      <td>SP</td>\n",
       "      <td>Sudeste</td>\n",
       "    </tr>\n",
       "    <tr>\n",
       "      <th>2</th>\n",
       "      <td>1977-10-13</td>\n",
       "      <td>STREET</td>\n",
       "      <td>3651.86</td>\n",
       "      <td>CURITIBA</td>\n",
       "      <td>CURITIBA-CENTRO</td>\n",
       "      <td>PR</td>\n",
       "      <td>Sul</td>\n",
       "    </tr>\n",
       "    <tr>\n",
       "      <th>3</th>\n",
       "      <td>1978-08-31</td>\n",
       "      <td>STREET</td>\n",
       "      <td>3366.36</td>\n",
       "      <td>PORTO ALEGRE</td>\n",
       "      <td>PORTO ALEGRE</td>\n",
       "      <td>RS</td>\n",
       "      <td>Sul</td>\n",
       "    </tr>\n",
       "    <tr>\n",
       "      <th>4</th>\n",
       "      <td>1979-08-28</td>\n",
       "      <td>STREET</td>\n",
       "      <td>2172.77</td>\n",
       "      <td>RIO DE JANEIRO</td>\n",
       "      <td>COPACABANA</td>\n",
       "      <td>RJ</td>\n",
       "      <td>Sudeste</td>\n",
       "    </tr>\n",
       "  </tbody>\n",
       "</table>\n",
       "</div>"
      ],
      "text/plain": [
       "  Data de abertura SHOPPING/STREET  Salão de Vendas - m²          Cidade  \\\n",
       "0       1976-08-31   SHOPPING MALL               2705.09       SÃO PAULO   \n",
       "1       1977-09-15          STREET               2256.38        CAMPINAS   \n",
       "2       1977-10-13          STREET               3651.86        CURITIBA   \n",
       "3       1978-08-31          STREET               3366.36    PORTO ALEGRE   \n",
       "4       1979-08-28          STREET               2172.77  RIO DE JANEIRO   \n",
       "\n",
       "                 Local Estado   Região  \n",
       "0  SHOPPING IBIRAPUERA     SP  Sudeste  \n",
       "1    CAMPINAS - CENTRO     SP  Sudeste  \n",
       "2      CURITIBA-CENTRO     PR      Sul  \n",
       "3         PORTO ALEGRE     RS      Sul  \n",
       "4           COPACABANA     RJ  Sudeste  "
      ]
     },
     "execution_count": 4,
     "metadata": {},
     "output_type": "execute_result"
    }
   ],
   "source": [
    "# Visualizar as 5 primeiras entradas\n",
    "df.head()"
   ]
  },
  {
   "cell_type": "code",
   "execution_count": 5,
   "id": "8db05dfd",
   "metadata": {},
   "outputs": [
    {
     "name": "stdout",
     "output_type": "stream",
     "text": [
      "Entradas:  329\n",
      "Variáveis:  7\n"
     ]
    }
   ],
   "source": [
    "# Visualizar o tamanho do dataframe\n",
    "print(\"Entradas: \", df.shape[0])\n",
    "print(\"Variáveis: \", df.shape[1])"
   ]
  },
  {
   "cell_type": "code",
   "execution_count": 6,
   "id": "9e9a49c1",
   "metadata": {},
   "outputs": [
    {
     "data": {
      "text/plain": [
       "Index(['Data de abertura', 'SHOPPING/STREET', 'Salão de Vendas - m²', 'Cidade',\n",
       "       'Local', 'Estado', 'Região'],\n",
       "      dtype='object')"
      ]
     },
     "execution_count": 6,
     "metadata": {},
     "output_type": "execute_result"
    }
   ],
   "source": [
    "# Extrair o nome das colunas\n",
    "df.columns"
   ]
  },
  {
   "cell_type": "code",
   "execution_count": 7,
   "id": "93769b25",
   "metadata": {},
   "outputs": [
    {
     "data": {
      "text/plain": [
       "Data de abertura        datetime64[ns]\n",
       "SHOPPING/STREET                 object\n",
       "Salão de Vendas - m²           float64\n",
       "Cidade                          object\n",
       "Local                           object\n",
       "Estado                          object\n",
       "Região                          object\n",
       "dtype: object"
      ]
     },
     "execution_count": 7,
     "metadata": {},
     "output_type": "execute_result"
    }
   ],
   "source": [
    "# Extrair o tipo das variáveis\n",
    "df.dtypes"
   ]
  },
  {
   "cell_type": "code",
   "execution_count": 8,
   "id": "360510eb",
   "metadata": {},
   "outputs": [
    {
     "data": {
      "text/plain": [
       "Data de abertura        0.0\n",
       "SHOPPING/STREET         0.0\n",
       "Salão de Vendas - m²    0.0\n",
       "Cidade                  0.0\n",
       "Local                   0.0\n",
       "Estado                  0.0\n",
       "Região                  0.0\n",
       "dtype: float64"
      ]
     },
     "execution_count": 8,
     "metadata": {},
     "output_type": "execute_result"
    }
   ],
   "source": [
    "# Porcentagem de itens nulos\n",
    "(df.isnull().sum()/df.shape[0]).sort_values(ascending = True) * 100"
   ]
  },
  {
   "cell_type": "markdown",
   "id": "2b16bec3",
   "metadata": {},
   "source": [
    "### Q1. Qual a data da primeira abertura de loja?"
   ]
  },
  {
   "cell_type": "code",
   "execution_count": 9,
   "id": "b94f83b7",
   "metadata": {
    "scrolled": true
   },
   "outputs": [
    {
     "data": {
      "text/plain": [
       "Timestamp('1976-08-31 00:00:00')"
      ]
     },
     "execution_count": 9,
     "metadata": {},
     "output_type": "execute_result"
    }
   ],
   "source": [
    "df['Data de abertura'].min()"
   ]
  },
  {
   "cell_type": "markdown",
   "id": "54e359bb",
   "metadata": {},
   "source": [
    "### Q2. Qual a data da última abertura de loja?"
   ]
  },
  {
   "cell_type": "code",
   "execution_count": 10,
   "id": "7181948e",
   "metadata": {},
   "outputs": [
    {
     "data": {
      "text/plain": [
       "Timestamp('2022-06-25 00:00:00')"
      ]
     },
     "execution_count": 10,
     "metadata": {},
     "output_type": "execute_result"
    }
   ],
   "source": [
    "df['Data de abertura'].max()"
   ]
  },
  {
   "cell_type": "markdown",
   "id": "a533b076",
   "metadata": {},
   "source": [
    "### Q3. Qual a proporção de lojas na rua e em shopping?"
   ]
  },
  {
   "cell_type": "code",
   "execution_count": 11,
   "id": "7cfcff26",
   "metadata": {
    "scrolled": true
   },
   "outputs": [
    {
     "data": {
      "text/plain": [
       "SHOPPING MALL    281\n",
       "STREET            44\n",
       "RUA                3\n",
       "SHOPPING           1\n",
       "Name: SHOPPING/STREET, dtype: int64"
      ]
     },
     "execution_count": 11,
     "metadata": {},
     "output_type": "execute_result"
    }
   ],
   "source": [
    "df['SHOPPING/STREET'].value_counts()"
   ]
  },
  {
   "cell_type": "markdown",
   "id": "068c9ad5",
   "metadata": {},
   "source": [
    "### Gráfico da abertura de lojas ao longo do tempo"
   ]
  },
  {
   "cell_type": "code",
   "execution_count": 12,
   "id": "81163e4c",
   "metadata": {
    "scrolled": true
   },
   "outputs": [
    {
     "data": {
      "image/png": "[encoded data removed]",
      "text/plain": [
       "<Figure size 720x360 with 1 Axes>"
      ]
     },
     "metadata": {},
     "output_type": "display_data"
    }
   ],
   "source": [
    "fig, ax = plt.subplots(figsize = (10,5), dpi = 72)\n",
    "\n",
    "cea = df['Data de abertura']\n",
    "ax.grid(False)\n",
    "ax.plot(cea, range(329), label = 'Lojas C&A', color = AZUL, linewidth = 4)\n",
    "\n",
    "ax.spines['right'].set_visible(False)\n",
    "ax.spines['top'].set_visible(False)\n",
    "\n",
    "\n",
    "# title\n",
    "ax.set_title('Abertura de lojas ao longo do tempo', fontsize=18, color=CINZA_TEXTO)\n",
    "\n",
    "plt.show()\n"
   ]
  },
  {
   "cell_type": "markdown",
   "id": "4b4834d2",
   "metadata": {},
   "source": [
    "### Abertura de lojas de 2015 a 2019"
   ]
  },
  {
   "cell_type": "markdown",
   "id": "3b1f17e4",
   "metadata": {},
   "source": [
    "De 2015 a 2019, apenas 6 lojas Life foram abertas. Já na empresa C&A, foram abertas 28. Todavia, há de se considerar a quantidade de lojas disponíveis até o momento, haja vista que há 53 lojas Life e 329 lojas C&A."
   ]
  },
  {
   "cell_type": "code",
   "execution_count": 13,
   "id": "8f91c829",
   "metadata": {},
   "outputs": [
    {
     "data": {
      "text/plain": [
       "28"
      ]
     },
     "execution_count": 13,
     "metadata": {},
     "output_type": "execute_result"
    }
   ],
   "source": [
    "# abertura de lojas entre 2015 e 2019\n",
    "df.loc[(df['Data de abertura'] >= '01/01/2015') & (df['Data de abertura'] < '01/01/2020')].shape[0]"
   ]
  },
  {
   "cell_type": "code",
   "execution_count": 14,
   "id": "2e905664",
   "metadata": {
    "scrolled": true
   },
   "outputs": [
    {
     "data": {
      "text/html": [
       "<div>\n",
       "<style scoped>\n",
       "    .dataframe tbody tr th:only-of-type {\n",
       "        vertical-align: middle;\n",
       "    }\n",
       "\n",
       "    .dataframe tbody tr th {\n",
       "        vertical-align: top;\n",
       "    }\n",
       "\n",
       "    .dataframe thead th {\n",
       "        text-align: right;\n",
       "    }\n",
       "</style>\n",
       "<table border=\"1\" class=\"dataframe\">\n",
       "  <thead>\n",
       "    <tr style=\"text-align: right;\">\n",
       "      <th></th>\n",
       "      <th>Data de abertura</th>\n",
       "      <th>SHOPPING/STREET</th>\n",
       "      <th>Salão de Vendas - m²</th>\n",
       "      <th>Cidade</th>\n",
       "      <th>Local</th>\n",
       "      <th>Estado</th>\n",
       "      <th>Região</th>\n",
       "    </tr>\n",
       "  </thead>\n",
       "  <tbody>\n",
       "    <tr>\n",
       "      <th>253</th>\n",
       "      <td>2015-03-18</td>\n",
       "      <td>SHOPPING MALL</td>\n",
       "      <td>2254.80</td>\n",
       "      <td>SAO JOSÉ DO RIBAMAR</td>\n",
       "      <td>SHOPPING PÁTIO NORTE</td>\n",
       "      <td>MA</td>\n",
       "      <td>Nordeste</td>\n",
       "    </tr>\n",
       "    <tr>\n",
       "      <th>254</th>\n",
       "      <td>2015-04-16</td>\n",
       "      <td>SHOPPING MALL</td>\n",
       "      <td>1026.44</td>\n",
       "      <td>GUARULHOS</td>\n",
       "      <td>PARQUE SHOPPING MAIA</td>\n",
       "      <td>SP</td>\n",
       "      <td>Sudeste</td>\n",
       "    </tr>\n",
       "    <tr>\n",
       "      <th>255</th>\n",
       "      <td>2015-05-05</td>\n",
       "      <td>STREET</td>\n",
       "      <td>2133.86</td>\n",
       "      <td>NOVA IGUAÇU</td>\n",
       "      <td>NOVA IGUAÇU</td>\n",
       "      <td>RJ</td>\n",
       "      <td>Sudeste</td>\n",
       "    </tr>\n",
       "    <tr>\n",
       "      <th>256</th>\n",
       "      <td>2015-06-02</td>\n",
       "      <td>SHOPPING MALL</td>\n",
       "      <td>956.08</td>\n",
       "      <td>FORTALEZA</td>\n",
       "      <td>SHOPPING ALDEOTA</td>\n",
       "      <td>CE</td>\n",
       "      <td>Nordeste</td>\n",
       "    </tr>\n",
       "    <tr>\n",
       "      <th>257</th>\n",
       "      <td>2015-06-25</td>\n",
       "      <td>SHOPPING MALL</td>\n",
       "      <td>977.61</td>\n",
       "      <td>CAMPINAS</td>\n",
       "      <td>CAMPINAS SHOPPING</td>\n",
       "      <td>SP</td>\n",
       "      <td>Sudeste</td>\n",
       "    </tr>\n",
       "    <tr>\n",
       "      <th>258</th>\n",
       "      <td>2015-06-30</td>\n",
       "      <td>SHOPPING MALL</td>\n",
       "      <td>1975.12</td>\n",
       "      <td>PALMAS</td>\n",
       "      <td>SHOPPING CAPIM DOURADO</td>\n",
       "      <td>TO</td>\n",
       "      <td>Norte</td>\n",
       "    </tr>\n",
       "    <tr>\n",
       "      <th>259</th>\n",
       "      <td>2015-08-27</td>\n",
       "      <td>SHOPPING MALL</td>\n",
       "      <td>2281.38</td>\n",
       "      <td>BELEM</td>\n",
       "      <td>SHOPPING GRÃO PARÁ</td>\n",
       "      <td>PA</td>\n",
       "      <td>Norte</td>\n",
       "    </tr>\n",
       "    <tr>\n",
       "      <th>260</th>\n",
       "      <td>2015-09-24</td>\n",
       "      <td>SHOPPING MALL</td>\n",
       "      <td>2153.00</td>\n",
       "      <td>IPATINGA</td>\n",
       "      <td>SHOPPING DO VALE DO AÇO</td>\n",
       "      <td>MG</td>\n",
       "      <td>Sudeste</td>\n",
       "    </tr>\n",
       "    <tr>\n",
       "      <th>261</th>\n",
       "      <td>2015-09-24</td>\n",
       "      <td>STREET</td>\n",
       "      <td>1393.32</td>\n",
       "      <td>SÃO PAULO</td>\n",
       "      <td>AUGUSTA</td>\n",
       "      <td>SP</td>\n",
       "      <td>Sudeste</td>\n",
       "    </tr>\n",
       "    <tr>\n",
       "      <th>262</th>\n",
       "      <td>2015-09-29</td>\n",
       "      <td>SHOPPING MALL</td>\n",
       "      <td>2372.56</td>\n",
       "      <td>TERESINA</td>\n",
       "      <td>SHOPPING RIO POTY</td>\n",
       "      <td>PI</td>\n",
       "      <td>Nordeste</td>\n",
       "    </tr>\n",
       "    <tr>\n",
       "      <th>263</th>\n",
       "      <td>2015-10-30</td>\n",
       "      <td>SHOPPING MALL</td>\n",
       "      <td>2048.55</td>\n",
       "      <td>PAULISTA</td>\n",
       "      <td>SHOPPING NORTH WAY PAULISTA</td>\n",
       "      <td>PE</td>\n",
       "      <td>Nordeste</td>\n",
       "    </tr>\n",
       "    <tr>\n",
       "      <th>264</th>\n",
       "      <td>2015-11-03</td>\n",
       "      <td>SHOPPING MALL</td>\n",
       "      <td>998.11</td>\n",
       "      <td>UBERLANDIA</td>\n",
       "      <td>UBERLÂNDIA SHOPPING</td>\n",
       "      <td>MG</td>\n",
       "      <td>Sudeste</td>\n",
       "    </tr>\n",
       "    <tr>\n",
       "      <th>265</th>\n",
       "      <td>2016-04-28</td>\n",
       "      <td>SHOPPING MALL</td>\n",
       "      <td>2184.59</td>\n",
       "      <td>NOVA IGUAÇU</td>\n",
       "      <td>SHOPPING NOVA IGUAÇU</td>\n",
       "      <td>RJ</td>\n",
       "      <td>Sudeste</td>\n",
       "    </tr>\n",
       "    <tr>\n",
       "      <th>266</th>\n",
       "      <td>2016-05-21</td>\n",
       "      <td>SHOPPING MALL</td>\n",
       "      <td>2178.14</td>\n",
       "      <td>SÃO PAULO</td>\n",
       "      <td>SHOPPING CANTAREIRA</td>\n",
       "      <td>SP</td>\n",
       "      <td>Sudeste</td>\n",
       "    </tr>\n",
       "    <tr>\n",
       "      <th>267</th>\n",
       "      <td>2018-06-01</td>\n",
       "      <td>STREET</td>\n",
       "      <td>1975.94</td>\n",
       "      <td>SÃO JOSÉ DOS PINHAIS</td>\n",
       "      <td>SÃO JOSÉ DOS PINHAIS</td>\n",
       "      <td>SP</td>\n",
       "      <td>Sudeste</td>\n",
       "    </tr>\n",
       "    <tr>\n",
       "      <th>268</th>\n",
       "      <td>2018-10-01</td>\n",
       "      <td>SHOPPING MALL</td>\n",
       "      <td>2061.30</td>\n",
       "      <td>CUIABÁ</td>\n",
       "      <td>SHOPPING ESTAÇÃO CUIABÁ</td>\n",
       "      <td>MT</td>\n",
       "      <td>Centro oeste</td>\n",
       "    </tr>\n",
       "    <tr>\n",
       "      <th>269</th>\n",
       "      <td>2018-10-01</td>\n",
       "      <td>SHOPPING MALL</td>\n",
       "      <td>1853.86</td>\n",
       "      <td>OLINDA</td>\n",
       "      <td>SHOPPING PATTEO OLINDA</td>\n",
       "      <td>PE</td>\n",
       "      <td>Nordeste</td>\n",
       "    </tr>\n",
       "    <tr>\n",
       "      <th>270</th>\n",
       "      <td>2018-10-01</td>\n",
       "      <td>SHOPPING MALL</td>\n",
       "      <td>2099.04</td>\n",
       "      <td>CAMPINA GRANDE</td>\n",
       "      <td>PARTAGE CAMPINA GRANDE</td>\n",
       "      <td>PB</td>\n",
       "      <td>Nordeste</td>\n",
       "    </tr>\n",
       "    <tr>\n",
       "      <th>271</th>\n",
       "      <td>2019-04-25</td>\n",
       "      <td>SHOPPING MALL</td>\n",
       "      <td>1993.96</td>\n",
       "      <td>CAMAÇARI</td>\n",
       "      <td>BOULEVARD SHOPPING CAMAÇARI</td>\n",
       "      <td>BA</td>\n",
       "      <td>Nordeste</td>\n",
       "    </tr>\n",
       "    <tr>\n",
       "      <th>272</th>\n",
       "      <td>2019-04-25</td>\n",
       "      <td>SHOPPING MALL</td>\n",
       "      <td>2234.05</td>\n",
       "      <td>CAMARAGIBE</td>\n",
       "      <td>CAMARÁ SHOPPING</td>\n",
       "      <td>PE</td>\n",
       "      <td>Nordeste</td>\n",
       "    </tr>\n",
       "    <tr>\n",
       "      <th>273</th>\n",
       "      <td>2019-04-25</td>\n",
       "      <td>SHOPPING MALL</td>\n",
       "      <td>2177.07</td>\n",
       "      <td>ANANINDEUA</td>\n",
       "      <td>SHOPPING METRÓPOLE ANANINDEUA</td>\n",
       "      <td>PA</td>\n",
       "      <td>Norte</td>\n",
       "    </tr>\n",
       "    <tr>\n",
       "      <th>274</th>\n",
       "      <td>2019-06-05</td>\n",
       "      <td>SHOPPING MALL</td>\n",
       "      <td>2012.82</td>\n",
       "      <td>CURITIBA</td>\n",
       "      <td>JOCKEY PLAZA SHOPPING</td>\n",
       "      <td>PR</td>\n",
       "      <td>Sul</td>\n",
       "    </tr>\n",
       "    <tr>\n",
       "      <th>275</th>\n",
       "      <td>2019-09-19</td>\n",
       "      <td>SHOPPING MALL</td>\n",
       "      <td>1397.00</td>\n",
       "      <td>ARAÇATUBA</td>\n",
       "      <td>SHOPPING PRAÇA NOVA</td>\n",
       "      <td>SP</td>\n",
       "      <td>Sudeste</td>\n",
       "    </tr>\n",
       "    <tr>\n",
       "      <th>276</th>\n",
       "      <td>2019-09-26</td>\n",
       "      <td>SHOPPING MALL</td>\n",
       "      <td>1740.00</td>\n",
       "      <td>BLUMENAU</td>\n",
       "      <td>SHOPPING PARK EUROPEU</td>\n",
       "      <td>SC</td>\n",
       "      <td>Sul</td>\n",
       "    </tr>\n",
       "    <tr>\n",
       "      <th>277</th>\n",
       "      <td>2019-10-01</td>\n",
       "      <td>SHOPPING MALL</td>\n",
       "      <td>2191.16</td>\n",
       "      <td>MANAUS</td>\n",
       "      <td>SHOPPING GRANDE CIRCULAR</td>\n",
       "      <td>AM</td>\n",
       "      <td>Norte</td>\n",
       "    </tr>\n",
       "    <tr>\n",
       "      <th>278</th>\n",
       "      <td>2019-10-03</td>\n",
       "      <td>SHOPPING MALL</td>\n",
       "      <td>2129.51</td>\n",
       "      <td>FORTALEZA</td>\n",
       "      <td>SHOPPING MAR RIO KENNEDY</td>\n",
       "      <td>CE</td>\n",
       "      <td>Nordeste</td>\n",
       "    </tr>\n",
       "    <tr>\n",
       "      <th>279</th>\n",
       "      <td>2019-11-26</td>\n",
       "      <td>SHOPPING MALL</td>\n",
       "      <td>1853.94</td>\n",
       "      <td>ARACAJU</td>\n",
       "      <td>ARACAJU PARQUE SHOPPING</td>\n",
       "      <td>SE</td>\n",
       "      <td>Nordeste</td>\n",
       "    </tr>\n",
       "    <tr>\n",
       "      <th>280</th>\n",
       "      <td>2019-12-05</td>\n",
       "      <td>SHOPPING MALL</td>\n",
       "      <td>1750.74</td>\n",
       "      <td>CABO FRIO</td>\n",
       "      <td>SHOPPING PARK LAGOS</td>\n",
       "      <td>RJ</td>\n",
       "      <td>Sudeste</td>\n",
       "    </tr>\n",
       "  </tbody>\n",
       "</table>\n",
       "</div>"
      ],
      "text/plain": [
       "    Data de abertura SHOPPING/STREET  Salão de Vendas - m²  \\\n",
       "253       2015-03-18   SHOPPING MALL               2254.80   \n",
       "254       2015-04-16   SHOPPING MALL               1026.44   \n",
       "255       2015-05-05          STREET               2133.86   \n",
       "256       2015-06-02   SHOPPING MALL                956.08   \n",
       "257       2015-06-25   SHOPPING MALL                977.61   \n",
       "258       2015-06-30   SHOPPING MALL               1975.12   \n",
       "259       2015-08-27   SHOPPING MALL               2281.38   \n",
       "260       2015-09-24   SHOPPING MALL               2153.00   \n",
       "261       2015-09-24          STREET               1393.32   \n",
       "262       2015-09-29   SHOPPING MALL               2372.56   \n",
       "263       2015-10-30   SHOPPING MALL               2048.55   \n",
       "264       2015-11-03   SHOPPING MALL                998.11   \n",
       "265       2016-04-28   SHOPPING MALL               2184.59   \n",
       "266       2016-05-21   SHOPPING MALL               2178.14   \n",
       "267       2018-06-01          STREET               1975.94   \n",
       "268       2018-10-01   SHOPPING MALL               2061.30   \n",
       "269       2018-10-01   SHOPPING MALL               1853.86   \n",
       "270       2018-10-01   SHOPPING MALL               2099.04   \n",
       "271       2019-04-25   SHOPPING MALL               1993.96   \n",
       "272       2019-04-25   SHOPPING MALL               2234.05   \n",
       "273       2019-04-25   SHOPPING MALL               2177.07   \n",
       "274       2019-06-05   SHOPPING MALL               2012.82   \n",
       "275       2019-09-19   SHOPPING MALL               1397.00   \n",
       "276       2019-09-26   SHOPPING MALL               1740.00   \n",
       "277       2019-10-01   SHOPPING MALL               2191.16   \n",
       "278       2019-10-03   SHOPPING MALL               2129.51   \n",
       "279       2019-11-26   SHOPPING MALL               1853.94   \n",
       "280       2019-12-05   SHOPPING MALL               1750.74   \n",
       "\n",
       "                   Cidade                          Local Estado        Região  \n",
       "253   SAO JOSÉ DO RIBAMAR           SHOPPING PÁTIO NORTE     MA      Nordeste  \n",
       "254             GUARULHOS           PARQUE SHOPPING MAIA     SP       Sudeste  \n",
       "255           NOVA IGUAÇU                    NOVA IGUAÇU     RJ       Sudeste  \n",
       "256             FORTALEZA               SHOPPING ALDEOTA     CE      Nordeste  \n",
       "257              CAMPINAS              CAMPINAS SHOPPING     SP       Sudeste  \n",
       "258                PALMAS         SHOPPING CAPIM DOURADO     TO         Norte  \n",
       "259                 BELEM             SHOPPING GRÃO PARÁ     PA         Norte  \n",
       "260              IPATINGA        SHOPPING DO VALE DO AÇO     MG       Sudeste  \n",
       "261             SÃO PAULO                        AUGUSTA     SP       Sudeste  \n",
       "262              TERESINA              SHOPPING RIO POTY     PI      Nordeste  \n",
       "263              PAULISTA    SHOPPING NORTH WAY PAULISTA     PE      Nordeste  \n",
       "264            UBERLANDIA            UBERLÂNDIA SHOPPING     MG       Sudeste  \n",
       "265           NOVA IGUAÇU           SHOPPING NOVA IGUAÇU     RJ       Sudeste  \n",
       "266             SÃO PAULO            SHOPPING CANTAREIRA     SP       Sudeste  \n",
       "267  SÃO JOSÉ DOS PINHAIS           SÃO JOSÉ DOS PINHAIS     SP       Sudeste  \n",
       "268                CUIABÁ        SHOPPING ESTAÇÃO CUIABÁ     MT  Centro oeste  \n",
       "269                OLINDA         SHOPPING PATTEO OLINDA     PE      Nordeste  \n",
       "270        CAMPINA GRANDE         PARTAGE CAMPINA GRANDE     PB      Nordeste  \n",
       "271              CAMAÇARI    BOULEVARD SHOPPING CAMAÇARI     BA      Nordeste  \n",
       "272            CAMARAGIBE                CAMARÁ SHOPPING     PE      Nordeste  \n",
       "273            ANANINDEUA  SHOPPING METRÓPOLE ANANINDEUA     PA         Norte  \n",
       "274              CURITIBA          JOCKEY PLAZA SHOPPING     PR           Sul  \n",
       "275             ARAÇATUBA            SHOPPING PRAÇA NOVA     SP       Sudeste  \n",
       "276              BLUMENAU          SHOPPING PARK EUROPEU     SC           Sul  \n",
       "277                MANAUS       SHOPPING GRANDE CIRCULAR     AM         Norte  \n",
       "278             FORTALEZA       SHOPPING MAR RIO KENNEDY     CE      Nordeste  \n",
       "279               ARACAJU        ARACAJU PARQUE SHOPPING     SE      Nordeste  \n",
       "280             CABO FRIO            SHOPPING PARK LAGOS     RJ       Sudeste  "
      ]
     },
     "execution_count": 14,
     "metadata": {},
     "output_type": "execute_result"
    }
   ],
   "source": [
    "# abertura de lojas entre 2015 e 2019\n",
    "df.loc[(df['Data de abertura'] >= '01/01/2015') & (df['Data de abertura'] < '01/01/2020')]"
   ]
  },
  {
   "cell_type": "markdown",
   "id": "a82c4ea6",
   "metadata": {},
   "source": [
    "### Abertura de lojas de 2020 em diante"
   ]
  },
  {
   "cell_type": "markdown",
   "id": "fb6e14c4",
   "metadata": {},
   "source": [
    "A partir de 2020, foram abertas 47 lojas Life e 48 lojas C&A. Os números se aproximam, apesar da diferença de proporção entre as lojas."
   ]
  },
  {
   "cell_type": "code",
   "execution_count": 15,
   "id": "7263b078",
   "metadata": {},
   "outputs": [
    {
     "data": {
      "text/plain": [
       "48"
      ]
     },
     "execution_count": 15,
     "metadata": {},
     "output_type": "execute_result"
    }
   ],
   "source": [
    "# abetura de lojas life a partir de 2020\n",
    "df.loc[(df['Data de abertura'] >= '01/01/2020') & (df['Data de abertura'] < '01/01/2023')].shape[0]"
   ]
  },
  {
   "cell_type": "code",
   "execution_count": 16,
   "id": "763ddb57",
   "metadata": {},
   "outputs": [
    {
     "data": {
      "text/html": [
       "<div>\n",
       "<style scoped>\n",
       "    .dataframe tbody tr th:only-of-type {\n",
       "        vertical-align: middle;\n",
       "    }\n",
       "\n",
       "    .dataframe tbody tr th {\n",
       "        vertical-align: top;\n",
       "    }\n",
       "\n",
       "    .dataframe thead th {\n",
       "        text-align: right;\n",
       "    }\n",
       "</style>\n",
       "<table border=\"1\" class=\"dataframe\">\n",
       "  <thead>\n",
       "    <tr style=\"text-align: right;\">\n",
       "      <th></th>\n",
       "      <th>Data de abertura</th>\n",
       "      <th>SHOPPING/STREET</th>\n",
       "      <th>Salão de Vendas - m²</th>\n",
       "      <th>Cidade</th>\n",
       "      <th>Local</th>\n",
       "      <th>Estado</th>\n",
       "      <th>Região</th>\n",
       "    </tr>\n",
       "  </thead>\n",
       "  <tbody>\n",
       "    <tr>\n",
       "      <th>281</th>\n",
       "      <td>2020-03-17</td>\n",
       "      <td>SHOPPING MALL</td>\n",
       "      <td>2130.00</td>\n",
       "      <td>LAURO DE FREITAS</td>\n",
       "      <td>PARQUE SHOPPING DA BAHIA</td>\n",
       "      <td>BA</td>\n",
       "      <td>Nordeste</td>\n",
       "    </tr>\n",
       "    <tr>\n",
       "      <th>282</th>\n",
       "      <td>2020-06-25</td>\n",
       "      <td>SHOPPING MALL</td>\n",
       "      <td>1736.00</td>\n",
       "      <td>CARAPICUÍBA</td>\n",
       "      <td>PLAZA SHOPPING CARAPICUÍBA</td>\n",
       "      <td>SP</td>\n",
       "      <td>Sudeste</td>\n",
       "    </tr>\n",
       "    <tr>\n",
       "      <th>283</th>\n",
       "      <td>2020-06-30</td>\n",
       "      <td>SHOPPING MALL</td>\n",
       "      <td>2126.00</td>\n",
       "      <td>SÃO BERNARDO DO CAMPO</td>\n",
       "      <td>GOLDEN SQUARE SHOPPING</td>\n",
       "      <td>SP</td>\n",
       "      <td>Sudeste</td>\n",
       "    </tr>\n",
       "    <tr>\n",
       "      <th>284</th>\n",
       "      <td>2020-07-14</td>\n",
       "      <td>SHOPPING MALL</td>\n",
       "      <td>1865.00</td>\n",
       "      <td>SÃO LUIS</td>\n",
       "      <td>GOLDEN SHOPPING CALHAU</td>\n",
       "      <td>MA</td>\n",
       "      <td>Nordeste</td>\n",
       "    </tr>\n",
       "    <tr>\n",
       "      <th>285</th>\n",
       "      <td>2020-10-06</td>\n",
       "      <td>SHOPPING MALL</td>\n",
       "      <td>1313.00</td>\n",
       "      <td>SALVADOR</td>\n",
       "      <td>SHOPPING CENTER LAPA</td>\n",
       "      <td>BA</td>\n",
       "      <td>Nordeste</td>\n",
       "    </tr>\n",
       "    <tr>\n",
       "      <th>286</th>\n",
       "      <td>2020-10-10</td>\n",
       "      <td>SHOPPING MALL</td>\n",
       "      <td>1762.00</td>\n",
       "      <td>BRASILIA</td>\n",
       "      <td>ÁGUAS CLARAS SHOPPING</td>\n",
       "      <td>DF</td>\n",
       "      <td>Centro oeste</td>\n",
       "    </tr>\n",
       "    <tr>\n",
       "      <th>287</th>\n",
       "      <td>2020-11-05</td>\n",
       "      <td>SHOPPING MALL</td>\n",
       "      <td>1694.00</td>\n",
       "      <td>RIO GRANDE</td>\n",
       "      <td>PARTAGE SHOPPING RIO GRANDE</td>\n",
       "      <td>RS</td>\n",
       "      <td>Sul</td>\n",
       "    </tr>\n",
       "    <tr>\n",
       "      <th>288</th>\n",
       "      <td>2020-11-12</td>\n",
       "      <td>SHOPPING MALL</td>\n",
       "      <td>1319.00</td>\n",
       "      <td>CRICÚMA</td>\n",
       "      <td>NAÇÕES SHOPPING</td>\n",
       "      <td>SC</td>\n",
       "      <td>Sul</td>\n",
       "    </tr>\n",
       "    <tr>\n",
       "      <th>289</th>\n",
       "      <td>2020-11-17</td>\n",
       "      <td>SHOPPING MALL</td>\n",
       "      <td>1783.00</td>\n",
       "      <td>MOSSORÓ</td>\n",
       "      <td>PARTAGE SHOPPING MOSSORÓ</td>\n",
       "      <td>RN</td>\n",
       "      <td>Nordeste</td>\n",
       "    </tr>\n",
       "    <tr>\n",
       "      <th>290</th>\n",
       "      <td>2020-11-19</td>\n",
       "      <td>SHOPPING MALL</td>\n",
       "      <td>1417.00</td>\n",
       "      <td>SÃO PAULO</td>\n",
       "      <td>SHOPPING ANÁLIA FRANCO</td>\n",
       "      <td>SP</td>\n",
       "      <td>Sudeste</td>\n",
       "    </tr>\n",
       "    <tr>\n",
       "      <th>291</th>\n",
       "      <td>2021-03-23</td>\n",
       "      <td>SHOPPING MALL</td>\n",
       "      <td>1828.09</td>\n",
       "      <td>SÃO JOSÉ DOS CAMPOS</td>\n",
       "      <td>SHOPPING JARDIM ORIENTE</td>\n",
       "      <td>SP</td>\n",
       "      <td>Sudeste</td>\n",
       "    </tr>\n",
       "    <tr>\n",
       "      <th>292</th>\n",
       "      <td>2021-03-25</td>\n",
       "      <td>SHOPPING MALL</td>\n",
       "      <td>1399.63</td>\n",
       "      <td>FOZ DO IGUAÇU</td>\n",
       "      <td>CATUAÍ PALLADIUM SHOPPING</td>\n",
       "      <td>PR</td>\n",
       "      <td>Sul</td>\n",
       "    </tr>\n",
       "    <tr>\n",
       "      <th>293</th>\n",
       "      <td>2021-04-15</td>\n",
       "      <td>SHOPPING MALL</td>\n",
       "      <td>1789.00</td>\n",
       "      <td>CAMPO GRANDE</td>\n",
       "      <td>SHOPPING NORTE SUL PLAZA</td>\n",
       "      <td>MS</td>\n",
       "      <td>Centro oeste</td>\n",
       "    </tr>\n",
       "    <tr>\n",
       "      <th>294</th>\n",
       "      <td>2021-04-18</td>\n",
       "      <td>SHOPPING MALL</td>\n",
       "      <td>1442.00</td>\n",
       "      <td>OSASCO</td>\n",
       "      <td>SUPER SHOPPING OSASCO</td>\n",
       "      <td>SP</td>\n",
       "      <td>Sudeste</td>\n",
       "    </tr>\n",
       "    <tr>\n",
       "      <th>295</th>\n",
       "      <td>2021-04-22</td>\n",
       "      <td>SHOPPING MALL</td>\n",
       "      <td>1695.00</td>\n",
       "      <td>VOLTA REDONDA</td>\n",
       "      <td>SHOPPING PARK SUL</td>\n",
       "      <td>RJ</td>\n",
       "      <td>Sudeste</td>\n",
       "    </tr>\n",
       "    <tr>\n",
       "      <th>296</th>\n",
       "      <td>2021-04-26</td>\n",
       "      <td>SHOPPING MALL</td>\n",
       "      <td>1838.63</td>\n",
       "      <td>GUARAPUAVA</td>\n",
       "      <td>SHOPPING CIDADE DOS LAGOS</td>\n",
       "      <td>PR</td>\n",
       "      <td>Sul</td>\n",
       "    </tr>\n",
       "    <tr>\n",
       "      <th>297</th>\n",
       "      <td>2021-04-27</td>\n",
       "      <td>SHOPPING MALL</td>\n",
       "      <td>1264.13</td>\n",
       "      <td>BRAGANÇA PAULISTA</td>\n",
       "      <td>BRAGANÇA GARDEN SHOPPING</td>\n",
       "      <td>SP</td>\n",
       "      <td>Sudeste</td>\n",
       "    </tr>\n",
       "    <tr>\n",
       "      <th>298</th>\n",
       "      <td>2021-04-29</td>\n",
       "      <td>SHOPPING MALL</td>\n",
       "      <td>1682.33</td>\n",
       "      <td>VÁRZEA GRANDE</td>\n",
       "      <td>VÁRZEA GRANDE SHOPPING</td>\n",
       "      <td>MT</td>\n",
       "      <td>Centro oeste</td>\n",
       "    </tr>\n",
       "    <tr>\n",
       "      <th>299</th>\n",
       "      <td>2021-04-29</td>\n",
       "      <td>SHOPPING MALL</td>\n",
       "      <td>2526.14</td>\n",
       "      <td>RIO DE JANERO</td>\n",
       "      <td>SHOPPING RIO SUL</td>\n",
       "      <td>RJ</td>\n",
       "      <td>Sudeste</td>\n",
       "    </tr>\n",
       "    <tr>\n",
       "      <th>300</th>\n",
       "      <td>2021-06-04</td>\n",
       "      <td>SHOPPING MALL</td>\n",
       "      <td>1512.43</td>\n",
       "      <td>UMUARAMA</td>\n",
       "      <td>SHOPPING PALLADIUM UMUARAMA</td>\n",
       "      <td>PR</td>\n",
       "      <td>Sul</td>\n",
       "    </tr>\n",
       "    <tr>\n",
       "      <th>301</th>\n",
       "      <td>2021-06-14</td>\n",
       "      <td>SHOPPING MALL</td>\n",
       "      <td>1424.87</td>\n",
       "      <td>CARPINA</td>\n",
       "      <td>SHOPPING CARPINA</td>\n",
       "      <td>PE</td>\n",
       "      <td>Nordeste</td>\n",
       "    </tr>\n",
       "    <tr>\n",
       "      <th>302</th>\n",
       "      <td>2021-07-27</td>\n",
       "      <td>SHOPPING MALL</td>\n",
       "      <td>1987.42</td>\n",
       "      <td>GOIANIA</td>\n",
       "      <td>ARAGUAIA SHOPPING</td>\n",
       "      <td>GO</td>\n",
       "      <td>Centro oeste</td>\n",
       "    </tr>\n",
       "    <tr>\n",
       "      <th>303</th>\n",
       "      <td>2021-08-03</td>\n",
       "      <td>SHOPPING MALL</td>\n",
       "      <td>1184.43</td>\n",
       "      <td>ITABAIANA</td>\n",
       "      <td>SHOPPING PEIXOTO</td>\n",
       "      <td>SE</td>\n",
       "      <td>Nordeste</td>\n",
       "    </tr>\n",
       "    <tr>\n",
       "      <th>304</th>\n",
       "      <td>2021-08-03</td>\n",
       "      <td>SHOPPING MALL</td>\n",
       "      <td>1264.17</td>\n",
       "      <td>PATOS</td>\n",
       "      <td>PATOS SHOPPING</td>\n",
       "      <td>PB</td>\n",
       "      <td>Nordeste</td>\n",
       "    </tr>\n",
       "    <tr>\n",
       "      <th>305</th>\n",
       "      <td>2021-09-23</td>\n",
       "      <td>SHOPPING MALL</td>\n",
       "      <td>1754.07</td>\n",
       "      <td>LAGES</td>\n",
       "      <td>SHOPPING LAGES GARDEN</td>\n",
       "      <td>SC</td>\n",
       "      <td>Sul</td>\n",
       "    </tr>\n",
       "    <tr>\n",
       "      <th>306</th>\n",
       "      <td>2021-10-28</td>\n",
       "      <td>SHOPPING MALL</td>\n",
       "      <td>1677.00</td>\n",
       "      <td>SINOP</td>\n",
       "      <td>Shopping Sinop</td>\n",
       "      <td>MT</td>\n",
       "      <td>Centro oeste</td>\n",
       "    </tr>\n",
       "    <tr>\n",
       "      <th>307</th>\n",
       "      <td>2021-11-18</td>\n",
       "      <td>SHOPPING MALL</td>\n",
       "      <td>1612.00</td>\n",
       "      <td>RIO DE JANEIRO</td>\n",
       "      <td>Shopping Metropolitano</td>\n",
       "      <td>RJ</td>\n",
       "      <td>Sudeste</td>\n",
       "    </tr>\n",
       "    <tr>\n",
       "      <th>308</th>\n",
       "      <td>2021-11-19</td>\n",
       "      <td>SHOPPING MALL</td>\n",
       "      <td>2058.00</td>\n",
       "      <td>RIO DE JANEIRO</td>\n",
       "      <td>Park Shopping Jacarepaguá</td>\n",
       "      <td>RJ</td>\n",
       "      <td>Sudeste</td>\n",
       "    </tr>\n",
       "    <tr>\n",
       "      <th>309</th>\n",
       "      <td>2021-11-23</td>\n",
       "      <td>SHOPPING MALL</td>\n",
       "      <td>1612.00</td>\n",
       "      <td>PARAUAPEBAS</td>\n",
       "      <td>Partage Shopping Parauapebas</td>\n",
       "      <td>PA</td>\n",
       "      <td>Norte</td>\n",
       "    </tr>\n",
       "    <tr>\n",
       "      <th>310</th>\n",
       "      <td>2021-11-23</td>\n",
       "      <td>SHOPPING MALL</td>\n",
       "      <td>1209.00</td>\n",
       "      <td>TEIXEIRA DE FREITAS</td>\n",
       "      <td>Shopping Pátio Mix</td>\n",
       "      <td>BA</td>\n",
       "      <td>Nordeste</td>\n",
       "    </tr>\n",
       "    <tr>\n",
       "      <th>311</th>\n",
       "      <td>2021-11-23</td>\n",
       "      <td>SHOPPING MALL</td>\n",
       "      <td>1830.00</td>\n",
       "      <td>PARNAÍBA</td>\n",
       "      <td>Parnaíba Shopping</td>\n",
       "      <td>PI</td>\n",
       "      <td>Nordeste</td>\n",
       "    </tr>\n",
       "    <tr>\n",
       "      <th>312</th>\n",
       "      <td>2021-11-25</td>\n",
       "      <td>SHOPPING MALL</td>\n",
       "      <td>1385.00</td>\n",
       "      <td>CANOAS</td>\n",
       "      <td>ParkShopping Canoas</td>\n",
       "      <td>RS</td>\n",
       "      <td>Sul</td>\n",
       "    </tr>\n",
       "    <tr>\n",
       "      <th>313</th>\n",
       "      <td>2021-11-29</td>\n",
       "      <td>SHOPPING MALL</td>\n",
       "      <td>1738.00</td>\n",
       "      <td>ITAPETININGA</td>\n",
       "      <td>Itapê Shopping</td>\n",
       "      <td>SP</td>\n",
       "      <td>Sudeste</td>\n",
       "    </tr>\n",
       "    <tr>\n",
       "      <th>314</th>\n",
       "      <td>2021-12-02</td>\n",
       "      <td>SHOPPING MALL</td>\n",
       "      <td>1179.00</td>\n",
       "      <td>ANGRA DO REIS</td>\n",
       "      <td>Shopping Piratas</td>\n",
       "      <td>RJ</td>\n",
       "      <td>Sudeste</td>\n",
       "    </tr>\n",
       "    <tr>\n",
       "      <th>315</th>\n",
       "      <td>2021-12-06</td>\n",
       "      <td>STREET</td>\n",
       "      <td>895.00</td>\n",
       "      <td>BOTUCATU</td>\n",
       "      <td>Loja de Rua Botucatu</td>\n",
       "      <td>SP</td>\n",
       "      <td>Sudeste</td>\n",
       "    </tr>\n",
       "    <tr>\n",
       "      <th>316</th>\n",
       "      <td>2021-12-08</td>\n",
       "      <td>SHOPPING MALL</td>\n",
       "      <td>1395.00</td>\n",
       "      <td>GURUPI</td>\n",
       "      <td>Shopping Center Araguaia</td>\n",
       "      <td>TO</td>\n",
       "      <td>Norte</td>\n",
       "    </tr>\n",
       "    <tr>\n",
       "      <th>317</th>\n",
       "      <td>2022-03-14</td>\n",
       "      <td>SHOPPING MALL</td>\n",
       "      <td>1775.00</td>\n",
       "      <td>MARINGA</td>\n",
       "      <td>Shopping Cidade Maringá</td>\n",
       "      <td>PR</td>\n",
       "      <td>Sul</td>\n",
       "    </tr>\n",
       "    <tr>\n",
       "      <th>318</th>\n",
       "      <td>2022-03-21</td>\n",
       "      <td>SHOPPING MALL</td>\n",
       "      <td>1712.00</td>\n",
       "      <td>SÃO PAULO</td>\n",
       "      <td>Shopping Trimais Hiper Center</td>\n",
       "      <td>SP</td>\n",
       "      <td>Sudeste</td>\n",
       "    </tr>\n",
       "    <tr>\n",
       "      <th>319</th>\n",
       "      <td>2022-04-04</td>\n",
       "      <td>SHOPPING MALL</td>\n",
       "      <td>1609.00</td>\n",
       "      <td>ALTAMIRA</td>\n",
       "      <td>Shopping Serra Dourada</td>\n",
       "      <td>PA</td>\n",
       "      <td>Norte</td>\n",
       "    </tr>\n",
       "    <tr>\n",
       "      <th>320</th>\n",
       "      <td>2022-04-19</td>\n",
       "      <td>RUA</td>\n",
       "      <td>1521.00</td>\n",
       "      <td>MURIAÉ</td>\n",
       "      <td>Loja de Rua Muriaé</td>\n",
       "      <td>MG</td>\n",
       "      <td>Sudeste</td>\n",
       "    </tr>\n",
       "    <tr>\n",
       "      <th>321</th>\n",
       "      <td>2022-04-28</td>\n",
       "      <td>RUA</td>\n",
       "      <td>1306.65</td>\n",
       "      <td>BARBACENA</td>\n",
       "      <td>Loja de Rua Barbacena</td>\n",
       "      <td>MG</td>\n",
       "      <td>Sudeste</td>\n",
       "    </tr>\n",
       "    <tr>\n",
       "      <th>322</th>\n",
       "      <td>2022-04-28</td>\n",
       "      <td>SHOPPING MALL</td>\n",
       "      <td>1582.23</td>\n",
       "      <td>DIVINÓPOLIS</td>\n",
       "      <td>Shopping Pátio Divinópolis</td>\n",
       "      <td>MG</td>\n",
       "      <td>Sudeste</td>\n",
       "    </tr>\n",
       "    <tr>\n",
       "      <th>323</th>\n",
       "      <td>2022-05-16</td>\n",
       "      <td>SHOPPING MALL</td>\n",
       "      <td>1667.37</td>\n",
       "      <td>PORTO ALEGRE</td>\n",
       "      <td>Barra Shopping Sul</td>\n",
       "      <td>RS</td>\n",
       "      <td>Sul</td>\n",
       "    </tr>\n",
       "    <tr>\n",
       "      <th>324</th>\n",
       "      <td>2022-05-23</td>\n",
       "      <td>SHOPPING</td>\n",
       "      <td>1401.80</td>\n",
       "      <td>GOIÂNIA</td>\n",
       "      <td>Shopping Cerrado</td>\n",
       "      <td>GO</td>\n",
       "      <td>Centro oeste</td>\n",
       "    </tr>\n",
       "    <tr>\n",
       "      <th>325</th>\n",
       "      <td>2022-05-27</td>\n",
       "      <td>SHOPPING MALL</td>\n",
       "      <td>1181.00</td>\n",
       "      <td>RESENDE</td>\n",
       "      <td>Shopping Mix Resende</td>\n",
       "      <td>RJ</td>\n",
       "      <td>Sudeste</td>\n",
       "    </tr>\n",
       "    <tr>\n",
       "      <th>326</th>\n",
       "      <td>2022-05-30</td>\n",
       "      <td>SHOPPING MALL</td>\n",
       "      <td>1596.24</td>\n",
       "      <td>TRÊS LAGOAS</td>\n",
       "      <td>Shopping Três Lagoas</td>\n",
       "      <td>MS</td>\n",
       "      <td>Centro oeste</td>\n",
       "    </tr>\n",
       "    <tr>\n",
       "      <th>327</th>\n",
       "      <td>2022-06-09</td>\n",
       "      <td>SHOPPING MALL</td>\n",
       "      <td>1473.62</td>\n",
       "      <td>LONDRINA</td>\n",
       "      <td>Boulevard Londrina Shopping</td>\n",
       "      <td>PR</td>\n",
       "      <td>Sul</td>\n",
       "    </tr>\n",
       "    <tr>\n",
       "      <th>328</th>\n",
       "      <td>2022-06-25</td>\n",
       "      <td>RUA</td>\n",
       "      <td>1382.00</td>\n",
       "      <td>BARREIRAS</td>\n",
       "      <td>Loja de Rua Barreiras</td>\n",
       "      <td>BA</td>\n",
       "      <td>Nordeste</td>\n",
       "    </tr>\n",
       "  </tbody>\n",
       "</table>\n",
       "</div>"
      ],
      "text/plain": [
       "    Data de abertura SHOPPING/STREET  Salão de Vendas - m²  \\\n",
       "281       2020-03-17   SHOPPING MALL               2130.00   \n",
       "282       2020-06-25   SHOPPING MALL               1736.00   \n",
       "283       2020-06-30   SHOPPING MALL               2126.00   \n",
       "284       2020-07-14   SHOPPING MALL               1865.00   \n",
       "285       2020-10-06   SHOPPING MALL               1313.00   \n",
       "286       2020-10-10   SHOPPING MALL               1762.00   \n",
       "287       2020-11-05   SHOPPING MALL               1694.00   \n",
       "288       2020-11-12   SHOPPING MALL               1319.00   \n",
       "289       2020-11-17   SHOPPING MALL               1783.00   \n",
       "290       2020-11-19   SHOPPING MALL               1417.00   \n",
       "291       2021-03-23   SHOPPING MALL               1828.09   \n",
       "292       2021-03-25   SHOPPING MALL               1399.63   \n",
       "293       2021-04-15   SHOPPING MALL               1789.00   \n",
       "294       2021-04-18   SHOPPING MALL               1442.00   \n",
       "295       2021-04-22   SHOPPING MALL               1695.00   \n",
       "296       2021-04-26   SHOPPING MALL               1838.63   \n",
       "297       2021-04-27   SHOPPING MALL               1264.13   \n",
       "298       2021-04-29   SHOPPING MALL               1682.33   \n",
       "299       2021-04-29   SHOPPING MALL               2526.14   \n",
       "300       2021-06-04   SHOPPING MALL               1512.43   \n",
       "301       2021-06-14   SHOPPING MALL               1424.87   \n",
       "302       2021-07-27   SHOPPING MALL               1987.42   \n",
       "303       2021-08-03   SHOPPING MALL               1184.43   \n",
       "304       2021-08-03   SHOPPING MALL               1264.17   \n",
       "305       2021-09-23   SHOPPING MALL               1754.07   \n",
       "306       2021-10-28   SHOPPING MALL               1677.00   \n",
       "307       2021-11-18   SHOPPING MALL               1612.00   \n",
       "308       2021-11-19   SHOPPING MALL               2058.00   \n",
       "309       2021-11-23   SHOPPING MALL               1612.00   \n",
       "310       2021-11-23   SHOPPING MALL               1209.00   \n",
       "311       2021-11-23   SHOPPING MALL               1830.00   \n",
       "312       2021-11-25   SHOPPING MALL               1385.00   \n",
       "313       2021-11-29   SHOPPING MALL               1738.00   \n",
       "314       2021-12-02   SHOPPING MALL               1179.00   \n",
       "315       2021-12-06          STREET                895.00   \n",
       "316       2021-12-08   SHOPPING MALL               1395.00   \n",
       "317       2022-03-14   SHOPPING MALL               1775.00   \n",
       "318       2022-03-21   SHOPPING MALL               1712.00   \n",
       "319       2022-04-04   SHOPPING MALL               1609.00   \n",
       "320       2022-04-19             RUA               1521.00   \n",
       "321       2022-04-28             RUA               1306.65   \n",
       "322       2022-04-28   SHOPPING MALL               1582.23   \n",
       "323       2022-05-16   SHOPPING MALL               1667.37   \n",
       "324       2022-05-23        SHOPPING               1401.80   \n",
       "325       2022-05-27   SHOPPING MALL               1181.00   \n",
       "326       2022-05-30   SHOPPING MALL               1596.24   \n",
       "327       2022-06-09   SHOPPING MALL               1473.62   \n",
       "328       2022-06-25             RUA               1382.00   \n",
       "\n",
       "                    Cidade                          Local Estado        Região  \n",
       "281       LAURO DE FREITAS       PARQUE SHOPPING DA BAHIA     BA      Nordeste  \n",
       "282            CARAPICUÍBA    PLAZA SHOPPING CARAPICUÍBA      SP       Sudeste  \n",
       "283  SÃO BERNARDO DO CAMPO        GOLDEN SQUARE SHOPPING      SP       Sudeste  \n",
       "284               SÃO LUIS         GOLDEN SHOPPING CALHAU     MA      Nordeste  \n",
       "285               SALVADOR           SHOPPING CENTER LAPA     BA      Nordeste  \n",
       "286               BRASILIA          ÁGUAS CLARAS SHOPPING     DF  Centro oeste  \n",
       "287             RIO GRANDE    PARTAGE SHOPPING RIO GRANDE     RS           Sul  \n",
       "288                CRICÚMA                NAÇÕES SHOPPING     SC           Sul  \n",
       "289                MOSSORÓ       PARTAGE SHOPPING MOSSORÓ     RN      Nordeste  \n",
       "290              SÃO PAULO         SHOPPING ANÁLIA FRANCO     SP       Sudeste  \n",
       "291   SÃO JOSÉ DOS CAMPOS         SHOPPING JARDIM ORIENTE     SP       Sudeste  \n",
       "292          FOZ DO IGUAÇU      CATUAÍ PALLADIUM SHOPPING     PR           Sul  \n",
       "293           CAMPO GRANDE       SHOPPING NORTE SUL PLAZA     MS  Centro oeste  \n",
       "294                 OSASCO          SUPER SHOPPING OSASCO     SP       Sudeste  \n",
       "295          VOLTA REDONDA              SHOPPING PARK SUL     RJ       Sudeste  \n",
       "296             GUARAPUAVA      SHOPPING CIDADE DOS LAGOS     PR           Sul  \n",
       "297      BRAGANÇA PAULISTA       BRAGANÇA GARDEN SHOPPING     SP       Sudeste  \n",
       "298          VÁRZEA GRANDE         VÁRZEA GRANDE SHOPPING     MT  Centro oeste  \n",
       "299          RIO DE JANERO               SHOPPING RIO SUL     RJ       Sudeste  \n",
       "300               UMUARAMA    SHOPPING PALLADIUM UMUARAMA     PR           Sul  \n",
       "301                CARPINA               SHOPPING CARPINA     PE      Nordeste  \n",
       "302                GOIANIA              ARAGUAIA SHOPPING     GO  Centro oeste  \n",
       "303              ITABAIANA               SHOPPING PEIXOTO     SE      Nordeste  \n",
       "304                  PATOS                 PATOS SHOPPING     PB      Nordeste  \n",
       "305                  LAGES          SHOPPING LAGES GARDEN     SC           Sul  \n",
       "306                  SINOP                 Shopping Sinop     MT  Centro oeste  \n",
       "307         RIO DE JANEIRO        Shopping Metropolitano      RJ       Sudeste  \n",
       "308         RIO DE JANEIRO      Park Shopping Jacarepaguá     RJ       Sudeste  \n",
       "309            PARAUAPEBAS   Partage Shopping Parauapebas     PA         Norte  \n",
       "310    TEIXEIRA DE FREITAS             Shopping Pátio Mix     BA      Nordeste  \n",
       "311               PARNAÍBA             Parnaíba Shopping      PI      Nordeste  \n",
       "312                 CANOAS            ParkShopping Canoas     RS           Sul  \n",
       "313           ITAPETININGA                 Itapê Shopping     SP       Sudeste  \n",
       "314          ANGRA DO REIS              Shopping Piratas      RJ       Sudeste  \n",
       "315               BOTUCATU          Loja de Rua Botucatu      SP       Sudeste  \n",
       "316                 GURUPI      Shopping Center Araguaia      TO         Norte  \n",
       "317                MARINGA        Shopping Cidade Maringá     PR           Sul  \n",
       "318              SÃO PAULO  Shopping Trimais Hiper Center     SP       Sudeste  \n",
       "319               ALTAMIRA         Shopping Serra Dourada     PA         Norte  \n",
       "320                 MURIAÉ             Loja de Rua Muriaé     MG       Sudeste  \n",
       "321              BARBACENA          Loja de Rua Barbacena     MG       Sudeste  \n",
       "322            DIVINÓPOLIS     Shopping Pátio Divinópolis     MG       Sudeste  \n",
       "323           PORTO ALEGRE             Barra Shopping Sul     RS           Sul  \n",
       "324                GOIÂNIA               Shopping Cerrado     GO  Centro oeste  \n",
       "325                RESENDE           Shopping Mix Resende     RJ       Sudeste  \n",
       "326            TRÊS LAGOAS           Shopping Três Lagoas     MS  Centro oeste  \n",
       "327               LONDRINA    Boulevard Londrina Shopping     PR           Sul  \n",
       "328              BARREIRAS          Loja de Rua Barreiras     BA      Nordeste  "
      ]
     },
     "execution_count": 16,
     "metadata": {},
     "output_type": "execute_result"
    }
   ],
   "source": [
    "# abetura de lojas life a partir de 2020\n",
    "df.loc[(df['Data de abertura'] >= '01/01/2020') & (df['Data de abertura'] < '01/01/2023')]"
   ]
  },
  {
   "cell_type": "markdown",
   "id": "674fa3c9",
   "metadata": {},
   "source": [
    "### Análise Territorial"
   ]
  },
  {
   "cell_type": "markdown",
   "id": "a8f2a5f6",
   "metadata": {},
   "source": [
    "### Q4. Qual a quantidade de lojas por região na C&A?"
   ]
  },
  {
   "cell_type": "markdown",
   "id": "3aecd5ce",
   "metadata": {},
   "source": [
    "Na C&A, há 76 lojas no Nordeste (23.1%), 25 no Centro-Oeste ( 7.6%), 171 no Sudeste (52%), 33 no Sul (10%) e 24 no Norte (7.3%). Já a Life consta com 5 lojas no Nordeste (9.4%), 5 no Centro-Oeste (9.4%), 32 no Sudeste (60%), 9 no Sul (16%) e 1 no Norte (0.1%)."
   ]
  },
  {
   "cell_type": "code",
   "execution_count": 17,
   "id": "cfd0c629",
   "metadata": {
    "scrolled": true
   },
   "outputs": [
    {
     "data": {
      "text/plain": [
       "array(['Sudeste', 'Sul', 'Centro oeste', 'Nordeste', 'Norte'],\n",
       "      dtype=object)"
      ]
     },
     "execution_count": 17,
     "metadata": {},
     "output_type": "execute_result"
    }
   ],
   "source": [
    "df['Região'].unique()"
   ]
  },
  {
   "cell_type": "code",
   "execution_count": 18,
   "id": "644286ed",
   "metadata": {},
   "outputs": [
    {
     "data": {
      "text/plain": [
       "76"
      ]
     },
     "execution_count": 18,
     "metadata": {},
     "output_type": "execute_result"
    }
   ],
   "source": [
    "# Nordeste\n",
    "df.loc[df['Região'] == 'Nordeste'].shape[0]"
   ]
  },
  {
   "cell_type": "code",
   "execution_count": 19,
   "id": "f0344932",
   "metadata": {},
   "outputs": [
    {
     "data": {
      "text/plain": [
       "23.10030395136778"
      ]
     },
     "execution_count": 19,
     "metadata": {},
     "output_type": "execute_result"
    }
   ],
   "source": [
    "# Nordeste\n",
    "df.loc[df['Região'] == 'Nordeste'].shape[0]/df.shape[0] * 100"
   ]
  },
  {
   "cell_type": "code",
   "execution_count": 20,
   "id": "fc1b9b23",
   "metadata": {},
   "outputs": [
    {
     "data": {
      "text/plain": [
       "25"
      ]
     },
     "execution_count": 20,
     "metadata": {},
     "output_type": "execute_result"
    }
   ],
   "source": [
    "# Centro-Oeste\n",
    "df.loc[df['Região'] == 'Centro oeste'].shape[0]"
   ]
  },
  {
   "cell_type": "code",
   "execution_count": 21,
   "id": "1f2b4c9a",
   "metadata": {},
   "outputs": [
    {
     "data": {
      "text/plain": [
       "7.598784194528875"
      ]
     },
     "execution_count": 21,
     "metadata": {},
     "output_type": "execute_result"
    }
   ],
   "source": [
    "# Centro-Oeste\n",
    "df.loc[df['Região'] == 'Centro oeste'].shape[0]/df.shape[0] * 100"
   ]
  },
  {
   "cell_type": "code",
   "execution_count": 22,
   "id": "a285c050",
   "metadata": {},
   "outputs": [
    {
     "data": {
      "text/plain": [
       "171"
      ]
     },
     "execution_count": 22,
     "metadata": {},
     "output_type": "execute_result"
    }
   ],
   "source": [
    "# Sudeste\n",
    "df.loc[df['Região'] == 'Sudeste'].shape[0]"
   ]
  },
  {
   "cell_type": "code",
   "execution_count": 23,
   "id": "cfd3609a",
   "metadata": {},
   "outputs": [
    {
     "data": {
      "text/plain": [
       "51.97568389057751"
      ]
     },
     "execution_count": 23,
     "metadata": {},
     "output_type": "execute_result"
    }
   ],
   "source": [
    "# Sudeste\n",
    "df.loc[df['Região'] == 'Sudeste'].shape[0]/df.shape[0] * 100"
   ]
  },
  {
   "cell_type": "code",
   "execution_count": 24,
   "id": "08a74683",
   "metadata": {},
   "outputs": [
    {
     "data": {
      "text/plain": [
       "33"
      ]
     },
     "execution_count": 24,
     "metadata": {},
     "output_type": "execute_result"
    }
   ],
   "source": [
    "# Sul\n",
    "df.loc[(df['Região'] == 'Sul')].shape[0]"
   ]
  },
  {
   "cell_type": "code",
   "execution_count": 25,
   "id": "9f993ca3",
   "metadata": {},
   "outputs": [
    {
     "data": {
      "text/plain": [
       "10.030395136778116"
      ]
     },
     "execution_count": 25,
     "metadata": {},
     "output_type": "execute_result"
    }
   ],
   "source": [
    "# Sul\n",
    "df.loc[(df['Região'] == 'Sul')].shape[0]/df.shape[0] * 100"
   ]
  },
  {
   "cell_type": "code",
   "execution_count": 26,
   "id": "b216c014",
   "metadata": {},
   "outputs": [
    {
     "data": {
      "text/plain": [
       "24"
      ]
     },
     "execution_count": 26,
     "metadata": {},
     "output_type": "execute_result"
    }
   ],
   "source": [
    "# Norte\n",
    "df.loc[df['Região'] == 'Norte'].shape[0]"
   ]
  },
  {
   "cell_type": "code",
   "execution_count": 27,
   "id": "72ce8343",
   "metadata": {
    "scrolled": true
   },
   "outputs": [
    {
     "data": {
      "text/plain": [
       "7.29483282674772"
      ]
     },
     "execution_count": 27,
     "metadata": {},
     "output_type": "execute_result"
    }
   ],
   "source": [
    "# Norte\n",
    "df.loc[df['Região'] == 'Norte'].shape[0]/df.shape[0] * 100"
   ]
  },
  {
   "cell_type": "markdown",
   "id": "aa1f4121",
   "metadata": {},
   "source": [
    "### Q5. Qual a quantidade de lojas por região na Life?"
   ]
  },
  {
   "cell_type": "code",
   "execution_count": 28,
   "id": "1e68e10e",
   "metadata": {},
   "outputs": [],
   "source": [
    "# Importando informações apenas da life\n",
    "life = pd.read_excel(\"Arquivos/loja_vivara.xlsx\")\n",
    "life = life.loc[life['Tipo'] == 'LOJA LIFE']"
   ]
  },
  {
   "cell_type": "code",
   "execution_count": 29,
   "id": "d6b66c29",
   "metadata": {},
   "outputs": [
    {
     "data": {
      "text/plain": [
       "array(['Centro-Oeste', 'Sudeste', 'Sul', 'Centro Oeste', 'Sudeste ',\n",
       "       'Nordeste', 'Norte '], dtype=object)"
      ]
     },
     "execution_count": 29,
     "metadata": {},
     "output_type": "execute_result"
    }
   ],
   "source": [
    "life['Região'].unique()"
   ]
  },
  {
   "cell_type": "code",
   "execution_count": 30,
   "id": "5935403f",
   "metadata": {},
   "outputs": [
    {
     "data": {
      "text/plain": [
       "5"
      ]
     },
     "execution_count": 30,
     "metadata": {},
     "output_type": "execute_result"
    }
   ],
   "source": [
    "# Nordeste\n",
    "life.loc[life['Região'] == 'Nordeste'].shape[0]"
   ]
  },
  {
   "cell_type": "code",
   "execution_count": 31,
   "id": "09f7d353",
   "metadata": {},
   "outputs": [
    {
     "data": {
      "text/plain": [
       "9.433962264150944"
      ]
     },
     "execution_count": 31,
     "metadata": {},
     "output_type": "execute_result"
    }
   ],
   "source": [
    "# Nordeste\n",
    "life.loc[life['Região'] == 'Nordeste'].shape[0]/life.shape[0] * 100"
   ]
  },
  {
   "cell_type": "code",
   "execution_count": 32,
   "id": "c78ccd35",
   "metadata": {},
   "outputs": [
    {
     "data": {
      "text/plain": [
       "5"
      ]
     },
     "execution_count": 32,
     "metadata": {},
     "output_type": "execute_result"
    }
   ],
   "source": [
    "# Centro-Oeste\n",
    "life.loc[life['Região'] == 'Centro-Oeste'].shape[0]"
   ]
  },
  {
   "cell_type": "code",
   "execution_count": 33,
   "id": "e96bf823",
   "metadata": {},
   "outputs": [
    {
     "data": {
      "text/plain": [
       "9.433962264150944"
      ]
     },
     "execution_count": 33,
     "metadata": {},
     "output_type": "execute_result"
    }
   ],
   "source": [
    "# Centro-Oeste\n",
    "life.loc[life['Região'] == 'Centro-Oeste'].shape[0]/life.shape[0] * 100"
   ]
  },
  {
   "cell_type": "code",
   "execution_count": 34,
   "id": "714cf68a",
   "metadata": {},
   "outputs": [
    {
     "data": {
      "text/plain": [
       "32"
      ]
     },
     "execution_count": 34,
     "metadata": {},
     "output_type": "execute_result"
    }
   ],
   "source": [
    "# Sudeste\n",
    "life.loc[(life['Região'] == 'Sudeste') | (life['Região'] == 'Sudeste ')].shape[0]"
   ]
  },
  {
   "cell_type": "code",
   "execution_count": 35,
   "id": "3cf9b2d2",
   "metadata": {},
   "outputs": [
    {
     "data": {
      "text/plain": [
       "60.37735849056604"
      ]
     },
     "execution_count": 35,
     "metadata": {},
     "output_type": "execute_result"
    }
   ],
   "source": [
    "# Sudeste\n",
    "life.loc[(life['Região'] == 'Sudeste') | (life['Região'] == 'Sudeste ')].shape[0]/life.shape[0] * 100"
   ]
  },
  {
   "cell_type": "code",
   "execution_count": 36,
   "id": "a7201a7a",
   "metadata": {},
   "outputs": [
    {
     "data": {
      "text/plain": [
       "9"
      ]
     },
     "execution_count": 36,
     "metadata": {},
     "output_type": "execute_result"
    }
   ],
   "source": [
    "# Sul\n",
    "life.loc[(life['Região'] == 'Sul')].shape[0]"
   ]
  },
  {
   "cell_type": "code",
   "execution_count": 37,
   "id": "0205ebbc",
   "metadata": {},
   "outputs": [
    {
     "data": {
      "text/plain": [
       "16.9811320754717"
      ]
     },
     "execution_count": 37,
     "metadata": {},
     "output_type": "execute_result"
    }
   ],
   "source": [
    "# Sul\n",
    "life.loc[(life['Região'] == 'Sul')].shape[0]/life.shape[0] * 100"
   ]
  },
  {
   "cell_type": "code",
   "execution_count": 38,
   "id": "ded06d08",
   "metadata": {},
   "outputs": [
    {
     "data": {
      "text/plain": [
       "1"
      ]
     },
     "execution_count": 38,
     "metadata": {},
     "output_type": "execute_result"
    }
   ],
   "source": [
    "# Norte\n",
    "life.loc[(life['Região'] == 'Norte') | (life['Região'] == 'Norte ')].shape[0]"
   ]
  },
  {
   "cell_type": "code",
   "execution_count": 39,
   "id": "202ed571",
   "metadata": {},
   "outputs": [
    {
     "data": {
      "text/plain": [
       "0.018867924528301886"
      ]
     },
     "execution_count": 39,
     "metadata": {},
     "output_type": "execute_result"
    }
   ],
   "source": [
    "# Norte\n",
    "life.loc[(life['Região'] == 'Norte') | (life['Região'] == 'Norte ')].shape[0]/life.shape[0]"
   ]
  },
  {
   "cell_type": "markdown",
   "id": "82c346a0",
   "metadata": {},
   "source": [
    "### Q6. Qual a quantidade de lojas C&A por estados?"
   ]
  },
  {
   "cell_type": "code",
   "execution_count": 40,
   "id": "e7b7f2b0",
   "metadata": {
    "scrolled": true
   },
   "outputs": [
    {
     "data": {
      "text/plain": [
       "SP    95\n",
       "RJ    45\n",
       "MG    24\n",
       "BA    16\n",
       "PE    15\n",
       "PR    14\n",
       "CE    12\n",
       "RS    11\n",
       "PA    11\n",
       "GO     9\n",
       "MA     8\n",
       "DF     8\n",
       "SC     8\n",
       "ES     7\n",
       "AM     6\n",
       "PB     6\n",
       "SE     6\n",
       "AL     5\n",
       "MS     4\n",
       "RN     4\n",
       "PI     4\n",
       "MT     4\n",
       "AP     2\n",
       "TO     2\n",
       "RO     1\n",
       "AC     1\n",
       "RR     1\n",
       "Name: Estado, dtype: int64"
      ]
     },
     "execution_count": 40,
     "metadata": {},
     "output_type": "execute_result"
    }
   ],
   "source": [
    "df['Estado'].value_counts()"
   ]
  },
  {
   "cell_type": "code",
   "execution_count": 41,
   "id": "72533def",
   "metadata": {
    "scrolled": false
   },
   "outputs": [
    {
     "data": {
      "text/plain": [
       "SP    28.875380\n",
       "RJ    13.677812\n",
       "MG     7.294833\n",
       "BA     4.863222\n",
       "PE     4.559271\n",
       "PR     4.255319\n",
       "CE     3.647416\n",
       "RS     3.343465\n",
       "PA     3.343465\n",
       "GO     2.735562\n",
       "MA     2.431611\n",
       "DF     2.431611\n",
       "SC     2.431611\n",
       "ES     2.127660\n",
       "AM     1.823708\n",
       "PB     1.823708\n",
       "SE     1.823708\n",
       "AL     1.519757\n",
       "MS     1.215805\n",
       "RN     1.215805\n",
       "PI     1.215805\n",
       "MT     1.215805\n",
       "AP     0.607903\n",
       "TO     0.607903\n",
       "RO     0.303951\n",
       "AC     0.303951\n",
       "RR     0.303951\n",
       "Name: Estado, dtype: float64"
      ]
     },
     "execution_count": 41,
     "metadata": {},
     "output_type": "execute_result"
    }
   ],
   "source": [
    "# Porcentagem de lojas por estado\n",
    "df['Estado'].value_counts()/df.shape[0] * 100"
   ]
  },
  {
   "cell_type": "markdown",
   "id": "71b36c73",
   "metadata": {},
   "source": [
    "### Q7. Qual a quantidade de lojas Life por estados?"
   ]
  },
  {
   "cell_type": "code",
   "execution_count": 42,
   "id": "de4c66be",
   "metadata": {},
   "outputs": [
    {
     "data": {
      "text/plain": [
       "SP     26\n",
       "RS      4\n",
       "DF      3\n",
       "PR      3\n",
       "SC      2\n",
       "MG      2\n",
       "RJ      2\n",
       "CE      2\n",
       "GO      2\n",
       "PE      2\n",
       "ES      1\n",
       "PA      1\n",
       "MS      1\n",
       "BA      1\n",
       "SP      1\n",
       "Name: Estado, dtype: int64"
      ]
     },
     "execution_count": 42,
     "metadata": {},
     "output_type": "execute_result"
    }
   ],
   "source": [
    "life['Estado'].value_counts()"
   ]
  },
  {
   "cell_type": "code",
   "execution_count": 43,
   "id": "f3e013e0",
   "metadata": {
    "scrolled": false
   },
   "outputs": [
    {
     "data": {
      "text/plain": [
       "SP     49.056604\n",
       "RS      7.547170\n",
       "DF      5.660377\n",
       "PR      5.660377\n",
       "SC      3.773585\n",
       "MG      3.773585\n",
       "RJ      3.773585\n",
       "CE      3.773585\n",
       "GO      3.773585\n",
       "PE      3.773585\n",
       "ES      1.886792\n",
       "PA      1.886792\n",
       "MS      1.886792\n",
       "BA      1.886792\n",
       "SP      1.886792\n",
       "Name: Estado, dtype: float64"
      ]
     },
     "execution_count": 43,
     "metadata": {},
     "output_type": "execute_result"
    }
   ],
   "source": [
    "# Porcentagem de lojas por estado\n",
    "life['Estado'].value_counts()/life.shape[0] * 100"
   ]
  },
  {
   "cell_type": "markdown",
   "id": "e6fb9fe4",
   "metadata": {},
   "source": [
    "### Q8. Quais os 10 principais shoppings com lojas C&A?"
   ]
  },
  {
   "cell_type": "code",
   "execution_count": 44,
   "id": "f260ba67",
   "metadata": {},
   "outputs": [
    {
     "data": {
      "text/plain": [
       "SHOPPING BOULEVARD            2\n",
       "SHOPPING BOA VISTA            2\n",
       "SHOPPING IGUATEMI             2\n",
       "NORTE SHOPPING                2\n",
       "SHOP PÁT. ARAPIRACA GARDEN    1\n",
       "SHOPPING JK CEILÂNDIA         1\n",
       "SHOPPING PASSEIO DAS ÁGUAS    1\n",
       "NORTH SHOPPING JÓQUEI         1\n",
       "SHOPPING MACEIÓ               1\n",
       "PARQUE SHOPPING SULACAP       1\n",
       "Name: Local, dtype: int64"
      ]
     },
     "execution_count": 44,
     "metadata": {},
     "output_type": "execute_result"
    }
   ],
   "source": [
    "df['Local'].value_counts()[:10]"
   ]
  },
  {
   "cell_type": "markdown",
   "id": "c4c57ea2",
   "metadata": {},
   "source": [
    "### Informações Relevantes"
   ]
  },
  {
   "cell_type": "markdown",
   "id": "dac65802",
   "metadata": {},
   "source": [
    "A estratégia da C&A tem sido focar principalmente em cidades com até 500 mil habitantes. A C&A percebeu um aumento significativo em lojas físicas, mas o destaque do trimestre foi a combinação de coleções bem aceitas pelos clientes e da queda de temperatura ocorrida próxima ao evento do Dia das Mães. A visão para a C&A é otimismo cauteloso, houve um aumento de 47 lojas  no portfólio, onde o eCommerce atingiu 10% e 15% das vendas totais. Porém a marca acredita nas lojas físicas por causa da conexão emocional. A cautela está relacionada a fatores externos que trazem incerteza para o mercado, como o cenário macroeconômico, eleições e a combinação inédita de uma copa do mundo de futebol próxima a grandes datas do varejo, como Liquida Friday (Black Friday) e Natal, que podem impactar o gasto discricionário em vestuário.\n",
    "\n",
    "Por outro lado, as lojas Vivara e Life tiveram uma expansão orgânica, onde No Dia das Mães, a Companhia atingiu recorde histórico devenda diária, de R$ 30,7 milhões, 7,0% maior que o último recorde registrado no Natal do ano passado. As lojas Life, cresceram 32,0% nas vendas e ganharam 0,8 p.p. de participação, quando comparado ao 2T21. Esse desempenho da categoria é explicado, principalmente, pelo aumento do parque de lojas exclusivas para a marca Life. O crescimento de vendas em lojas Life foi de 294,6%, já o aumento de Life foi de 62,5%. As vendas online foram 14% menor que as do ano passado. Esse resultado é reflexo,principalmente, do fim das restrições e retomada das atividades comerciais no início de 2022, que aumentou o fluxo de clientes nos shoppings, migrando as vendas digitais para as lojas físicas. Cerca de 290 mil clientes que compraram nas lojas físicas, no 2T22, que foram ativados digitalmente eforam responsáveis por 26% das vendas em lojas físicas. Além disso, 17,4% das vendas digitais foram entregues pelas lojas, através da modalidade de ship from store, reforçando o compromisso da Companhia com o desenvolvimento da sua estratégia de omnicanalidade."
   ]
  }
 ],
 "metadata": {
  "kernelspec": {
   "display_name": "Python 3 (ipykernel)",
   "language": "python",
   "name": "python3"
  },
  "language_info": {
   "codemirror_mode": {
    "name": "ipython",
    "version": 3
   },
   "file_extension": ".py",
   "mimetype": "text/x-python",
   "name": "python",
   "nbconvert_exporter": "python",
   "pygments_lexer": "ipython3",
   "version": "3.10.7"
  }
 },
 "nbformat": 4,
 "nbformat_minor": 5
}
