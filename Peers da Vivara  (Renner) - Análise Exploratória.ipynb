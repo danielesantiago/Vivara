{
 "cells": [
  {
   "cell_type": "markdown",
   "id": "705e948d",
   "metadata": {},
   "source": [
    "## Análise Exploratória - Renner"
   ]
  },
  {
   "cell_type": "markdown",
   "id": "fec5eb5f",
   "metadata": {},
   "source": [
    "<center><img width=\"60%\" src=\"Arquivos/renner.jpg\"></center>\n"
   ]
  },
  {
   "cell_type": "markdown",
   "id": "ada22493",
   "metadata": {},
   "source": [
    "## Análise dos Dados\n",
    "\n",
    "Esta etapa tem por objetivo permitir um entendimento de como os dados estão estruturados.\n",
    "\n",
    "**Dicionário das variáveis**\n",
    "\n",
    "* `Business` - Nome da franquia/loja\n",
    "* `Opening date` - Data de abertura da loja\n",
    "* `Opening quarter` - Período de abertura da loja\n",
    "* `Closing date` - Data de fechamento da loja\n",
    "* `Closing quarter` - Período de fechamento da loja\n",
    "* `Country` - País em que a loja se encontra\n",
    "* `Region` - Região em que a loja se encontra\n",
    "* `UF` - UF em que a loja se encontra\n",
    "* `State` - Estado em que a loja se encontra\n",
    "* `City` - Cidade em que a loja se encontra\n",
    "* `Capital` - Se a cidade é capital do estado ou não\n",
    "* `Location` - Localização da loja\n",
    "* `Shopping Mall / Street` - Se a loja está em shopping ou em rua\n",
    "* `Total Area (m2)` - Área total da loja em metros quadrados\n",
    "* `Total number of stores per business` - Número total de lojas por negócio\n",
    "* `Total number of stores` - Número total de lojas"
   ]
  },
  {
   "cell_type": "markdown",
   "id": "1d96b63d",
   "metadata": {},
   "source": [
    "### Importando os dados do dataset"
   ]
  },
  {
   "cell_type": "code",
   "execution_count": 3,
   "id": "3e163d53",
   "metadata": {},
   "outputs": [],
   "source": [
    "# importar as bibliotecas necessárias\n",
    "import pandas as pd\n",
    "import matplotlib.pyplot as plt\n",
    "import numpy as np\n",
    "import seaborn as sns\n",
    "import plotly.express as px\n",
    "import math\n",
    "from scipy import stats\n",
    "\n",
    "%matplotlib inline\n",
    "# tamanho dos gráficos\n",
    "plt.rcParams[\"figure.figsize\"] = [10,5]\n",
    "# tamanho dos dados\n",
    "plt.rcParams[\"font.size\"] = 12\n",
    "# tamanho das colunas a exibir os dados\n",
    "pd.set_option('display.max_rows', 67)\n",
    "\n",
    "# configurar a fonte\n",
    "plt.rcParams['font.family'] = 'Arial'\n",
    "\n",
    "# configurar as cores que usarei no plot\n",
    "AZUL = \"#003F5c\" \n",
    "CINZA = \"#9E9E9E\"\n",
    "CINZA_TEXTO = \"#515151\""
   ]
  },
  {
   "cell_type": "code",
   "execution_count": 68,
   "id": "ee27f611",
   "metadata": {},
   "outputs": [],
   "source": [
    "# importar o dataframe em xlsx\n",
    "df = pd.read_excel(\"Arquivos/lojas_renner.xlsx\", index_col=\"Opening date\")"
   ]
  },
  {
   "cell_type": "markdown",
   "id": "5876ee90",
   "metadata": {},
   "source": [
    "## Análise Exploratória dos Dados\n",
    "\n",
    "Na análise exploratória de dados será efetuada uma explanação inicial das variáveis contidas na dataset, e entenderemos dados referentes a informações de cunho geral."
   ]
  },
  {
   "cell_type": "code",
   "execution_count": 69,
   "id": "d879a410",
   "metadata": {},
   "outputs": [
    {
     "data": {
      "text/html": [
       "<div>\n",
       "<style scoped>\n",
       "    .dataframe tbody tr th:only-of-type {\n",
       "        vertical-align: middle;\n",
       "    }\n",
       "\n",
       "    .dataframe tbody tr th {\n",
       "        vertical-align: top;\n",
       "    }\n",
       "\n",
       "    .dataframe thead th {\n",
       "        text-align: right;\n",
       "    }\n",
       "</style>\n",
       "<table border=\"1\" class=\"dataframe\">\n",
       "  <thead>\n",
       "    <tr style=\"text-align: right;\">\n",
       "      <th></th>\n",
       "      <th>Business</th>\n",
       "      <th>Opening quarter</th>\n",
       "      <th>Closing date</th>\n",
       "      <th>Closing quarter</th>\n",
       "      <th>Country</th>\n",
       "      <th>Region</th>\n",
       "      <th>UF</th>\n",
       "      <th>State</th>\n",
       "      <th>City</th>\n",
       "      <th>Capital</th>\n",
       "      <th>Location</th>\n",
       "      <th>Shopping Mall / Street</th>\n",
       "      <th>Total Area (m2)</th>\n",
       "      <th>Total number of stores per business</th>\n",
       "      <th>Total number of stores</th>\n",
       "    </tr>\n",
       "    <tr>\n",
       "      <th>Opening date</th>\n",
       "      <th></th>\n",
       "      <th></th>\n",
       "      <th></th>\n",
       "      <th></th>\n",
       "      <th></th>\n",
       "      <th></th>\n",
       "      <th></th>\n",
       "      <th></th>\n",
       "      <th></th>\n",
       "      <th></th>\n",
       "      <th></th>\n",
       "      <th></th>\n",
       "      <th></th>\n",
       "      <th></th>\n",
       "      <th></th>\n",
       "    </tr>\n",
       "  </thead>\n",
       "  <tbody>\n",
       "    <tr>\n",
       "      <th>2022-09-29</th>\n",
       "      <td>Ashua</td>\n",
       "      <td>3Q22</td>\n",
       "      <td>NaT</td>\n",
       "      <td>NaN</td>\n",
       "      <td>Brazil</td>\n",
       "      <td>Southest</td>\n",
       "      <td>MG</td>\n",
       "      <td>Minas Gerais</td>\n",
       "      <td>Belo Horizonte</td>\n",
       "      <td>S</td>\n",
       "      <td>Shopping Boulevard BH</td>\n",
       "      <td>Shopping Mall</td>\n",
       "      <td>210.0</td>\n",
       "      <td>11</td>\n",
       "      <td>663</td>\n",
       "    </tr>\n",
       "    <tr>\n",
       "      <th>2022-09-23</th>\n",
       "      <td>Youcom</td>\n",
       "      <td>3Q22</td>\n",
       "      <td>NaT</td>\n",
       "      <td>NaN</td>\n",
       "      <td>Brazil</td>\n",
       "      <td>Northest</td>\n",
       "      <td>CE</td>\n",
       "      <td>Ceará</td>\n",
       "      <td>Fortaleza</td>\n",
       "      <td>S</td>\n",
       "      <td>Shopping Iguatemi Fortaleza</td>\n",
       "      <td>Shopping Mall</td>\n",
       "      <td>260.0</td>\n",
       "      <td>113</td>\n",
       "      <td>662</td>\n",
       "    </tr>\n",
       "    <tr>\n",
       "      <th>2022-09-14</th>\n",
       "      <td>Camicado</td>\n",
       "      <td>3Q22</td>\n",
       "      <td>NaT</td>\n",
       "      <td>NaN</td>\n",
       "      <td>Brazil</td>\n",
       "      <td>South</td>\n",
       "      <td>SC</td>\n",
       "      <td>Santa Catarina</td>\n",
       "      <td>Chapecó</td>\n",
       "      <td>N</td>\n",
       "      <td>Shopping Pátio Chapecó</td>\n",
       "      <td>Shopping Mall</td>\n",
       "      <td>615.0</td>\n",
       "      <td>123</td>\n",
       "      <td>661</td>\n",
       "    </tr>\n",
       "    <tr>\n",
       "      <th>2022-09-13</th>\n",
       "      <td>Renner</td>\n",
       "      <td>3Q22</td>\n",
       "      <td>NaT</td>\n",
       "      <td>NaN</td>\n",
       "      <td>Brazil</td>\n",
       "      <td>South</td>\n",
       "      <td>RS</td>\n",
       "      <td>Rio Grande do Sul</td>\n",
       "      <td>Alegrete</td>\n",
       "      <td>N</td>\n",
       "      <td>Loja Alegrete</td>\n",
       "      <td>Street</td>\n",
       "      <td>1829.0</td>\n",
       "      <td>416</td>\n",
       "      <td>660</td>\n",
       "    </tr>\n",
       "    <tr>\n",
       "      <th>2022-09-08</th>\n",
       "      <td>Renner</td>\n",
       "      <td>3Q22</td>\n",
       "      <td>NaT</td>\n",
       "      <td>NaN</td>\n",
       "      <td>Brazil</td>\n",
       "      <td>South</td>\n",
       "      <td>RS</td>\n",
       "      <td>Rio Grande do Sul</td>\n",
       "      <td>Carazinho</td>\n",
       "      <td>N</td>\n",
       "      <td>Loja Carazinho</td>\n",
       "      <td>Street</td>\n",
       "      <td>1476.0</td>\n",
       "      <td>415</td>\n",
       "      <td>659</td>\n",
       "    </tr>\n",
       "  </tbody>\n",
       "</table>\n",
       "</div>"
      ],
      "text/plain": [
       "              Business Opening quarter Closing date Closing quarter Country  \\\n",
       "Opening date                                                                  \n",
       "2022-09-29       Ashua            3Q22          NaT             NaN  Brazil   \n",
       "2022-09-23      Youcom            3Q22          NaT             NaN  Brazil   \n",
       "2022-09-14    Camicado            3Q22          NaT             NaN  Brazil   \n",
       "2022-09-13      Renner            3Q22          NaT             NaN  Brazil   \n",
       "2022-09-08      Renner            3Q22          NaT             NaN  Brazil   \n",
       "\n",
       "                Region  UF              State            City Capital  \\\n",
       "Opening date                                                            \n",
       "2022-09-29    Southest  MG       Minas Gerais  Belo Horizonte       S   \n",
       "2022-09-23    Northest  CE              Ceará       Fortaleza       S   \n",
       "2022-09-14       South  SC     Santa Catarina         Chapecó       N   \n",
       "2022-09-13       South  RS  Rio Grande do Sul        Alegrete       N   \n",
       "2022-09-08       South  RS  Rio Grande do Sul       Carazinho       N   \n",
       "\n",
       "                                 Location Shopping Mall / Street  \\\n",
       "Opening date                                                       \n",
       "2022-09-29          Shopping Boulevard BH          Shopping Mall   \n",
       "2022-09-23    Shopping Iguatemi Fortaleza          Shopping Mall   \n",
       "2022-09-14         Shopping Pátio Chapecó          Shopping Mall   \n",
       "2022-09-13                  Loja Alegrete                 Street   \n",
       "2022-09-08                 Loja Carazinho                 Street   \n",
       "\n",
       "              Total Area (m2)  Total number of stores per business  \\\n",
       "Opening date                                                         \n",
       "2022-09-29              210.0                                   11   \n",
       "2022-09-23              260.0                                  113   \n",
       "2022-09-14              615.0                                  123   \n",
       "2022-09-13             1829.0                                  416   \n",
       "2022-09-08             1476.0                                  415   \n",
       "\n",
       "              Total number of stores  \n",
       "Opening date                          \n",
       "2022-09-29                       663  \n",
       "2022-09-23                       662  \n",
       "2022-09-14                       661  \n",
       "2022-09-13                       660  \n",
       "2022-09-08                       659  "
      ]
     },
     "execution_count": 69,
     "metadata": {},
     "output_type": "execute_result"
    }
   ],
   "source": [
    "# Visualizar as 5 primeiras entradas\n",
    "df.head()"
   ]
  },
  {
   "cell_type": "code",
   "execution_count": 70,
   "id": "3f0d3efe",
   "metadata": {},
   "outputs": [
    {
     "name": "stdout",
     "output_type": "stream",
     "text": [
      "Entradas:  696\n",
      "Variáveis:  15\n"
     ]
    }
   ],
   "source": [
    "# Visualizar o tamanho do dataframe\n",
    "print(\"Entradas: \", df.shape[0])\n",
    "print(\"Variáveis: \", df.shape[1])"
   ]
  },
  {
   "cell_type": "code",
   "execution_count": 71,
   "id": "8ea0e09b",
   "metadata": {},
   "outputs": [
    {
     "data": {
      "text/plain": [
       "Index(['Business', 'Opening quarter', 'Closing date', 'Closing quarter',\n",
       "       'Country', 'Region', 'UF', 'State', 'City', 'Capital', 'Location',\n",
       "       'Shopping Mall / Street', 'Total Area (m2)',\n",
       "       'Total number of stores per business', 'Total number of stores'],\n",
       "      dtype='object')"
      ]
     },
     "execution_count": 71,
     "metadata": {},
     "output_type": "execute_result"
    }
   ],
   "source": [
    "# Extrair o nome das colunas\n",
    "df.columns"
   ]
  },
  {
   "cell_type": "code",
   "execution_count": 72,
   "id": "03a3a370",
   "metadata": {},
   "outputs": [
    {
     "data": {
      "text/plain": [
       "Business                                       object\n",
       "Opening quarter                                object\n",
       "Closing date                           datetime64[ns]\n",
       "Closing quarter                                object\n",
       "Country                                        object\n",
       "Region                                         object\n",
       "UF                                             object\n",
       "State                                          object\n",
       "City                                           object\n",
       "Capital                                        object\n",
       "Location                                       object\n",
       "Shopping Mall / Street                         object\n",
       "Total Area (m2)                               float64\n",
       "Total number of stores per business             int64\n",
       "Total number of stores                          int64\n",
       "dtype: object"
      ]
     },
     "execution_count": 72,
     "metadata": {},
     "output_type": "execute_result"
    }
   ],
   "source": [
    "# Extrair o tipo das variáveis\n",
    "df.dtypes"
   ]
  },
  {
   "cell_type": "code",
   "execution_count": 73,
   "id": "4e59d1d3",
   "metadata": {},
   "outputs": [
    {
     "data": {
      "text/plain": [
       "Business                                0.000000\n",
       "Opening quarter                         0.000000\n",
       "Country                                 0.000000\n",
       "Region                                  0.000000\n",
       "UF                                      0.000000\n",
       "State                                   0.000000\n",
       "City                                    0.000000\n",
       "Capital                                 0.000000\n",
       "Location                                0.000000\n",
       "Shopping Mall / Street                  0.000000\n",
       "Total Area (m2)                         0.000000\n",
       "Total number of stores per business     0.000000\n",
       "Total number of stores                  0.000000\n",
       "Closing date                           95.258621\n",
       "Closing quarter                        95.258621\n",
       "dtype: float64"
      ]
     },
     "execution_count": 73,
     "metadata": {},
     "output_type": "execute_result"
    }
   ],
   "source": [
    "# Porcentagem de itens nulos\n",
    "(df.isnull().sum()/df.shape[0]).sort_values(ascending = True) * 100"
   ]
  },
  {
   "cell_type": "markdown",
   "id": "48b95180",
   "metadata": {},
   "source": [
    "### Q1. Qual a quantidade de franquias/lojas que a Renner atua?"
   ]
  },
  {
   "cell_type": "code",
   "execution_count": 74,
   "id": "536d49d2",
   "metadata": {},
   "outputs": [
    {
     "data": {
      "text/plain": [
       "Renner      427\n",
       "Camicado    132\n",
       "Youcom      126\n",
       "Ashua        11\n",
       "Name: Business, dtype: int64"
      ]
     },
     "execution_count": 74,
     "metadata": {},
     "output_type": "execute_result"
    }
   ],
   "source": [
    "df['Business'].value_counts()"
   ]
  },
  {
   "cell_type": "markdown",
   "id": "60396d3f",
   "metadata": {},
   "source": [
    "### Q2. Qual a data da primeira abertura de loja?"
   ]
  },
  {
   "cell_type": "code",
   "execution_count": 76,
   "id": "9caa39fe",
   "metadata": {},
   "outputs": [
    {
     "data": {
      "text/plain": [
       "Timestamp('1967-06-01 00:00:00')"
      ]
     },
     "execution_count": 76,
     "metadata": {},
     "output_type": "execute_result"
    }
   ],
   "source": [
    "df.index.min()"
   ]
  },
  {
   "cell_type": "markdown",
   "id": "16119b6c",
   "metadata": {},
   "source": [
    "### Q3. Qual a data da última abertura de loja?"
   ]
  },
  {
   "cell_type": "code",
   "execution_count": 77,
   "id": "c3cd55e9",
   "metadata": {},
   "outputs": [
    {
     "data": {
      "text/plain": [
       "Timestamp('2022-09-29 00:00:00')"
      ]
     },
     "execution_count": 77,
     "metadata": {},
     "output_type": "execute_result"
    }
   ],
   "source": [
    "df.index.max()"
   ]
  },
  {
   "cell_type": "markdown",
   "id": "d5f5006a",
   "metadata": {},
   "source": [
    "### Q4. Qual a proporção de lojas na rua e em shopping?"
   ]
  },
  {
   "cell_type": "code",
   "execution_count": 78,
   "id": "c48f17ec",
   "metadata": {},
   "outputs": [
    {
     "data": {
      "text/plain": [
       "Shopping Mall    644\n",
       "Street            52\n",
       "Name: Shopping Mall / Street, dtype: int64"
      ]
     },
     "execution_count": 78,
     "metadata": {},
     "output_type": "execute_result"
    }
   ],
   "source": [
    "# valores absolutos\n",
    "df['Shopping Mall / Street'].value_counts()"
   ]
  },
  {
   "cell_type": "code",
   "execution_count": 79,
   "id": "91f27444",
   "metadata": {},
   "outputs": [
    {
     "data": {
      "text/plain": [
       "Shopping Mall    92.528736\n",
       "Street            7.471264\n",
       "Name: Shopping Mall / Street, dtype: float64"
      ]
     },
     "execution_count": 79,
     "metadata": {},
     "output_type": "execute_result"
    }
   ],
   "source": [
    "# porcentagem\n",
    "df['Shopping Mall / Street'].value_counts()/df.shape[0] * 100"
   ]
  },
  {
   "cell_type": "markdown",
   "id": "850ed8b3",
   "metadata": {},
   "source": [
    "### Gráfico da abertura de lojas ao longo do tempo"
   ]
  },
  {
   "cell_type": "code",
   "execution_count": 81,
   "id": "5485a4b7",
   "metadata": {},
   "outputs": [
    {
     "data": {
      "image/png": "[encoded data removed]",
      "text/plain": [
       "<Figure size 720x360 with 1 Axes>"
      ]
     },
     "metadata": {},
     "output_type": "display_data"
    }
   ],
   "source": [
    "fig, ax = plt.subplots(figsize = (10,5), dpi = 72)\n",
    "\n",
    "renner = df['Total number of stores']\n",
    "ax.grid(False)\n",
    "ax.plot(renner, color = AZUL, linewidth = 4)\n",
    "ax.spines['right'].set_visible(False)\n",
    "ax.spines['top'].set_visible(False)\n",
    "\n",
    "# title\n",
    "ax.set_title('Abertura de lojas ao longo do tempo', fontsize=18, color=CINZA_TEXTO)\n",
    "\n",
    "plt.show()\n"
   ]
  },
  {
   "cell_type": "markdown",
   "id": "79a09607",
   "metadata": {},
   "source": [
    "### Análise Territorial"
   ]
  },
  {
   "cell_type": "markdown",
   "id": "fbde272f",
   "metadata": {},
   "source": [
    "### Q5. Qual a proporção de lojas nos países?"
   ]
  },
  {
   "cell_type": "code",
   "execution_count": 82,
   "id": "c540ee91",
   "metadata": {},
   "outputs": [
    {
     "data": {
      "text/plain": [
       "Brazil       682\n",
       "Uruguay       10\n",
       "Argentina      4\n",
       "Name: Country, dtype: int64"
      ]
     },
     "execution_count": 82,
     "metadata": {},
     "output_type": "execute_result"
    }
   ],
   "source": [
    "df['Country'].value_counts()"
   ]
  },
  {
   "cell_type": "markdown",
   "id": "f72f0275",
   "metadata": {},
   "source": [
    "Analisaremos apenas os dados referentes ao Brasil, que é nossa zona de interesse."
   ]
  },
  {
   "cell_type": "code",
   "execution_count": 84,
   "id": "4895e6cc",
   "metadata": {},
   "outputs": [],
   "source": [
    "renner = df.loc[df['Country'] == 'Brazil']"
   ]
  },
  {
   "cell_type": "markdown",
   "id": "1a8dac11",
   "metadata": {},
   "source": [
    "### Q6. Qual a quantidade de lojas por região?"
   ]
  },
  {
   "cell_type": "code",
   "execution_count": 85,
   "id": "17505de6",
   "metadata": {},
   "outputs": [
    {
     "data": {
      "text/plain": [
       "Southest    342\n",
       "South       158\n",
       "Northest     93\n",
       "Midwest      57\n",
       "North        32\n",
       "Name: Region, dtype: int64"
      ]
     },
     "execution_count": 85,
     "metadata": {},
     "output_type": "execute_result"
    }
   ],
   "source": [
    "# valores absolutos\n",
    "renner['Region'].value_counts()"
   ]
  },
  {
   "cell_type": "code",
   "execution_count": 86,
   "id": "80277fff",
   "metadata": {
    "scrolled": true
   },
   "outputs": [
    {
     "data": {
      "text/plain": [
       "Southest    50.146628\n",
       "South       23.167155\n",
       "Northest    13.636364\n",
       "Midwest      8.357771\n",
       "North        4.692082\n",
       "Name: Region, dtype: float64"
      ]
     },
     "execution_count": 86,
     "metadata": {},
     "output_type": "execute_result"
    }
   ],
   "source": [
    "# porcentagem\n",
    "renner['Region'].value_counts()/renner.shape[0] * 100"
   ]
  },
  {
   "cell_type": "markdown",
   "id": "c294b121",
   "metadata": {},
   "source": [
    "### Q7. Qual a quantidade de lojas por UF?"
   ]
  },
  {
   "cell_type": "code",
   "execution_count": 90,
   "id": "f39e42ba",
   "metadata": {},
   "outputs": [
    {
     "data": {
      "text/plain": [
       "SP    217\n",
       "RS     81\n",
       "RJ     60\n",
       "MG     50\n",
       "SC     41\n",
       "PR     36\n",
       "DF     20\n",
       "BA     19\n",
       "PE     18\n",
       "GO     18\n",
       "CE     15\n",
       "ES     15\n",
       "PA     12\n",
       "MT     12\n",
       "MA      9\n",
       "AM      9\n",
       "RN      8\n",
       "MS      7\n",
       "AL      7\n",
       "SE      6\n",
       "PI      6\n",
       "PB      5\n",
       "RO      4\n",
       "AP      2\n",
       "TO      2\n",
       "RR      2\n",
       "AC      1\n",
       "Name: UF, dtype: int64"
      ]
     },
     "execution_count": 90,
     "metadata": {},
     "output_type": "execute_result"
    }
   ],
   "source": [
    "# valores absolutos\n",
    "renner['UF'].value_counts()"
   ]
  },
  {
   "cell_type": "code",
   "execution_count": 91,
   "id": "4f3fe656",
   "metadata": {},
   "outputs": [
    {
     "data": {
      "text/plain": [
       "SP    31.818182\n",
       "RS    11.876833\n",
       "RJ     8.797654\n",
       "MG     7.331378\n",
       "SC     6.011730\n",
       "PR     5.278592\n",
       "DF     2.932551\n",
       "BA     2.785924\n",
       "PE     2.639296\n",
       "GO     2.639296\n",
       "CE     2.199413\n",
       "ES     2.199413\n",
       "PA     1.759531\n",
       "MT     1.759531\n",
       "MA     1.319648\n",
       "AM     1.319648\n",
       "RN     1.173021\n",
       "MS     1.026393\n",
       "AL     1.026393\n",
       "SE     0.879765\n",
       "PI     0.879765\n",
       "PB     0.733138\n",
       "RO     0.586510\n",
       "AP     0.293255\n",
       "TO     0.293255\n",
       "RR     0.293255\n",
       "AC     0.146628\n",
       "Name: UF, dtype: float64"
      ]
     },
     "execution_count": 91,
     "metadata": {},
     "output_type": "execute_result"
    }
   ],
   "source": [
    "# porcentagem\n",
    "renner['UF'].value_counts()/renner.shape[0] * 100"
   ]
  },
  {
   "cell_type": "markdown",
   "id": "618c27ca",
   "metadata": {},
   "source": [
    "### Q8. Quanto capitais representam o número total de lojas?"
   ]
  },
  {
   "cell_type": "markdown",
   "id": "7317d59b",
   "metadata": {},
   "source": [
    "Valor bem equilibrado, sendo 50.58% capitais e 49.41% das lojas não."
   ]
  },
  {
   "cell_type": "code",
   "execution_count": 92,
   "id": "0a1a1914",
   "metadata": {},
   "outputs": [
    {
     "data": {
      "text/plain": [
       "S    345\n",
       "N    337\n",
       "Name: Capital, dtype: int64"
      ]
     },
     "execution_count": 92,
     "metadata": {},
     "output_type": "execute_result"
    }
   ],
   "source": [
    "renner['Capital'].value_counts()"
   ]
  },
  {
   "cell_type": "code",
   "execution_count": 93,
   "id": "fcadaea4",
   "metadata": {},
   "outputs": [
    {
     "data": {
      "text/plain": [
       "S    50.58651\n",
       "N    49.41349\n",
       "Name: Capital, dtype: float64"
      ]
     },
     "execution_count": 93,
     "metadata": {},
     "output_type": "execute_result"
    }
   ],
   "source": [
    "renner['Capital'].value_counts()/renner.shape[0] * 100"
   ]
  },
  {
   "cell_type": "markdown",
   "id": "29cb67a3",
   "metadata": {},
   "source": [
    "### Q9. Qual a proporção de lojas que são shopping ou estão na rua?"
   ]
  },
  {
   "cell_type": "code",
   "execution_count": 94,
   "id": "8070794f",
   "metadata": {},
   "outputs": [
    {
     "data": {
      "text/plain": [
       "Shopping Mall    633\n",
       "Street            49\n",
       "Name: Shopping Mall / Street, dtype: int64"
      ]
     },
     "execution_count": 94,
     "metadata": {},
     "output_type": "execute_result"
    }
   ],
   "source": [
    "renner['Shopping Mall / Street'].value_counts()"
   ]
  },
  {
   "cell_type": "code",
   "execution_count": 95,
   "id": "0eae45a2",
   "metadata": {
    "scrolled": true
   },
   "outputs": [
    {
     "data": {
      "text/plain": [
       "Shopping Mall    92.815249\n",
       "Street            7.184751\n",
       "Name: Shopping Mall / Street, dtype: float64"
      ]
     },
     "execution_count": 95,
     "metadata": {},
     "output_type": "execute_result"
    }
   ],
   "source": [
    "renner['Shopping Mall / Street'].value_counts()/renner.shape[0] * 100"
   ]
  },
  {
   "cell_type": "markdown",
   "id": "ca9b38fc",
   "metadata": {},
   "source": [
    "### Q10. Quais os 10 principais shoppings com lojas Renner?"
   ]
  },
  {
   "cell_type": "code",
   "execution_count": 98,
   "id": "62fc4836",
   "metadata": {},
   "outputs": [
    {
     "data": {
      "text/plain": [
       "Shopping Ibirapuera       4\n",
       "Shopping Riomar Recife    4\n",
       "Shopping ABC              4\n",
       "ParkShopping Canoas       3\n",
       "Shopping Vitória          3\n",
       "Shopping Pelotas          3\n",
       "Shopping Campo Grande     3\n",
       "Shopping Eldorado         3\n",
       "Shopping Recife           3\n",
       "Shopping Piracicaba       3\n",
       "Name: Location, dtype: int64"
      ]
     },
     "execution_count": 98,
     "metadata": {},
     "output_type": "execute_result"
    }
   ],
   "source": [
    "renner['Location'].value_counts()[:10]"
   ]
  },
  {
   "cell_type": "markdown",
   "id": "9dcfd911",
   "metadata": {},
   "source": [
    "### Informações Relevantes"
   ]
  },
  {
   "cell_type": "markdown",
   "id": "60f4550d",
   "metadata": {},
   "source": [
    "Em relação aos fluxos de consumidores online, foram +247 milhões de visitas (-9% versus 2T21), sendo 63% via app.\n",
    "A redução dos fluxos online deveu-se principalmente ao maior fluxo nas lojas físicas, dada a retomada das redes sociais interações e maior mobilidade, refletindo o aumento do CAC em relação ao 2T21. No período, foram +3,8 milhões de downloads e 7,6 milhões de usuários (16% vs 2T21), resultando mais uma vez na Companhia assumindo liderança absoluta no ranking de Usuários Ativos Mensais (MAU) entre os players nacionais segundo dados publicado pela AppAnnie e SimilarWeb. A base de clientes ativos do ecossistema continuou a se expandir para atingir 18,9 milhões de clientes, um aumento de\n",
    "18,9% em relação ao segundo trimestre de 2021, impulsionado pelo crescimento de novos clientes em lojas físicas e\n",
    "por clientes omni. A retenção foi de 4 p.p. superior ao mesmo período de 2021. \n",
    "\n",
    "Para maximizar as vendas de cada região e reduzir a necessidade de remarcações, houve um maior foco na estratégia de clusterização de coleções com esquemas de cores e padrões apropriados para a região em particular. In Time to Market – uma das prioridades estratégicas da Companhia do ano –, além das coleções digitais da marca esportiva Get Over, houve expansão o uso da máquina de estampagem de tecidos com o benefício de uma melhoria na reatividade através da demanda do cliente."
   ]
  }
 ],
 "metadata": {
  "kernelspec": {
   "display_name": "Python 3 (ipykernel)",
   "language": "python",
   "name": "python3"
  },
  "language_info": {
   "codemirror_mode": {
    "name": "ipython",
    "version": 3
   },
   "file_extension": ".py",
   "mimetype": "text/x-python",
   "name": "python",
   "nbconvert_exporter": "python",
   "pygments_lexer": "ipython3",
   "version": "3.10.7"
  }
 },
 "nbformat": 4,
 "nbformat_minor": 5
}
